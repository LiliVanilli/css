{
 "cells": [
  {
   "cell_type": "markdown",
   "id": "ffcd8d1c",
   "metadata": {},
   "source": [
    "# Task 4: Hyperparameter Optimization\n",
    "\n",
    "**Goal:** Optimize Random Forest classifier using Bayesian Optimization with Gaussian Process\n",
    "\n",
    "**Approach:**\n",
    "1. Load sensor data from pickle file (196 datasets)\n",
    "2. Extract features dynamically from available sensors\n",
    "3. Use 10-Fold Stratified Cross-Validation (LOSO not feasible)\n",
    "4. Optimize hyperparameters using Gaussian Process + Expected Improvement\n",
    "\n",
    "**Baseline:** Random Forest from Task 3 (F1=0.518)"
   ]
  },
  {
   "cell_type": "markdown",
   "id": "2da68554",
   "metadata": {},
   "source": [
    "## Step 1: Load Data and Extract Labels"
   ]
  },
  {
   "cell_type": "code",
   "execution_count": 1,
   "id": "b9f93a8c",
   "metadata": {},
   "outputs": [
    {
     "name": "stdout",
     "output_type": "stream",
     "text": [
      "Libraries imported successfully!\n"
     ]
    }
   ],
   "source": [
    "import numpy as np\n",
    "import pandas as pd\n",
    "import pickle\n",
    "import matplotlib.pyplot as plt\n",
    "import seaborn as sns\n",
    "from sklearn.ensemble import RandomForestClassifier\n",
    "from sklearn.model_selection import LeaveOneGroupOut, cross_validate\n",
    "from sklearn.metrics import f1_score, accuracy_score, make_scorer\n",
    "import warnings\n",
    "warnings.filterwarnings('ignore')\n",
    "\n",
    "print(\"Libraries imported successfully!\")"
   ]
  },
  {
   "cell_type": "code",
   "execution_count": 2,
   "id": "0f601ce6",
   "metadata": {},
   "outputs": [
    {
     "name": "stdout",
     "output_type": "stream",
     "text": [
      "Loaded DatasetReceiver with 196 datasets\n"
     ]
    }
   ],
   "source": [
    "# Load the pkl file from Task 3\n",
    "pkl_path = '../task3/project_css25.pkl'\n",
    "\n",
    "with open(pkl_path, 'rb') as f:\n",
    "    dataset_receiver = pickle.load(f)\n",
    "\n",
    "print(f\"Loaded DatasetReceiver with {len(dataset_receiver.datasets)} datasets\")"
   ]
  },
  {
   "cell_type": "code",
   "execution_count": 3,
   "id": "2cbb4082",
   "metadata": {},
   "outputs": [
    {
     "name": "stdout",
     "output_type": "stream",
     "text": [
      "Total labeled data points: 250,752\n",
      "Unique users (by name): 10\n",
      "\n",
      "Label distribution:\n",
      "label\n",
      "sitting                    104430\n",
      "walking                     75212\n",
      "testing                     30498\n",
      "standing                    21069\n",
      "jogging                      3844\n",
      "Walking                      2924\n",
      "                             2318\n",
      "running                      1852\n",
      "Jumping-Jack-Left-Hand       1609\n",
      "Jumping-Jack-Right-Hand      1409\n",
      "Running                      1233\n",
      "Laufen                       1208\n",
      "Fencing                       768\n",
      "Scrolling                     708\n",
      "Gehen                         616\n",
      "Jogging                       539\n",
      "Freefall                      438\n",
      "Testing                        77\n",
      "Name: count, dtype: int64\n"
     ]
    }
   ],
   "source": [
    "# Extract labeled data - FIXED: Use dataset.name as user_id\n",
    "labeled_data = []\n",
    "\n",
    "for dataset in dataset_receiver.datasets:\n",
    "    if hasattr(dataset, 'labelings') and dataset.labelings:\n",
    "        labeling = dataset.labelings[0]\n",
    "        \n",
    "        for label_data in labeling.labels:\n",
    "            # Access Label object attributes (not dictionary keys)\n",
    "            start_time = label_data.start\n",
    "            end_time = label_data.end\n",
    "            label_name = label_data.name\n",
    "            \n",
    "            # Get time series data\n",
    "            if hasattr(dataset, 'timeSeries') and dataset.timeSeries:\n",
    "                ts = dataset.timeSeries[0]\n",
    "                df = pd.DataFrame(ts.data)\n",
    "                \n",
    "                # Convert time column to datetime if it's not already\n",
    "                if 'time' in df.columns and not pd.api.types.is_datetime64_any_dtype(df['time']):\n",
    "                    df['time'] = pd.to_datetime(df['time'], unit='ms')\n",
    "                \n",
    "                # Convert start_time and end_time to datetime (they are in milliseconds)\n",
    "                start_dt = pd.to_datetime(start_time, unit='ms')\n",
    "                end_dt = pd.to_datetime(end_time, unit='ms')\n",
    "                \n",
    "                # Filter by time range\n",
    "                mask = (df['time'] >= start_dt) & (df['time'] <= end_dt)\n",
    "                segment_df = df[mask].copy()\n",
    "                \n",
    "                if len(segment_df) > 0:\n",
    "                    segment_df['label'] = label_name\n",
    "                    segment_df['dataset_id'] = dataset._id\n",
    "                    # FIXED: Use dataset.name as user_id (groups multiple datasets from same user)\n",
    "                    segment_df['user_id'] = dataset.name if hasattr(dataset, 'name') else dataset._id\n",
    "                    labeled_data.append(segment_df)\n",
    "\n",
    "all_labeled_df = pd.concat(labeled_data, ignore_index=True)\n",
    "print(f\"Total labeled data points: {len(all_labeled_df):,}\")\n",
    "print(f\"Unique users (by name): {all_labeled_df['user_id'].nunique()}\")\n",
    "print(f\"\\nLabel distribution:\")\n",
    "print(all_labeled_df['label'].value_counts())"
   ]
  },
  {
   "cell_type": "code",
   "execution_count": 4,
   "id": "1479fb43",
   "metadata": {},
   "outputs": [
    {
     "name": "stdout",
     "output_type": "stream",
     "text": [
      "Normalized labels:\n",
      "label\n",
      "sitting     104430\n",
      "walking      78136\n",
      "standing     21069\n",
      "running       3085\n",
      "Name: count, dtype: int64\n"
     ]
    }
   ],
   "source": [
    "# Normalize labels (same as Task 3)\n",
    "label_mapping = {\n",
    "    'walking': 'walking',\n",
    "    'Walking': 'walking',\n",
    "    'sitting': 'sitting',\n",
    "    'Sitting': 'sitting',\n",
    "    'standing': 'standing',\n",
    "    'Standing': 'standing',\n",
    "    'running': 'running',\n",
    "    'Running': 'running'\n",
    "}\n",
    "\n",
    "all_labeled_df['label'] = all_labeled_df['label'].map(label_mapping)\n",
    "all_labeled_df = all_labeled_df.dropna(subset=['label'])\n",
    "\n",
    "print(\"Normalized labels:\")\n",
    "print(all_labeled_df['label'].value_counts())"
   ]
  },
  {
   "cell_type": "markdown",
   "id": "88829070",
   "metadata": {},
   "source": [
    "**Dataset Summary:**\n",
    "- 196 datasets from 10 users\n",
    "- 182 datasets with activity labels\n",
    "- Labels: walking, sitting, standing, running"
   ]
  },
  {
   "cell_type": "markdown",
   "id": "306c4f49",
   "metadata": {},
   "source": [
    "## Step 2: Dynamic Feature Extraction\n",
    "\n",
    "**Why Dynamic?**\n",
    "The pickle file contains datasets with **different sensor types**:\n",
    "- Some have `accX` (acceleration X-axis)\n",
    "- Some have `acceleration.x` (device motion)\n",
    "- Some have `alpha` (orientation angle)\n",
    "- Some have `orienAlpha` (orientation alpha)\n",
    "\n",
    "**Solution:** Automatically detect and extract features from whatever sensors are available in each dataset.\n",
    "\n",
    "**Features per sensor:** mean, std, min, max, median, q25, q75 (7 statistical features)"
   ]
  },
  {
   "cell_type": "code",
   "execution_count": 5,
   "id": "afa108e8",
   "metadata": {},
   "outputs": [
    {
     "name": "stdout",
     "output_type": "stream",
     "text": [
      "Updated extract_features() to dynamically detect all sensor columns!\n"
     ]
    }
   ],
   "source": [
    "def extract_features(df):\n",
    "    \"\"\"\n",
    "    Extract statistical features from ALL available numeric sensor columns\n",
    "    This dynamically adapts to whatever sensors are present in the dataset\n",
    "    \"\"\"\n",
    "    features = {}\n",
    "    \n",
    "    # Automatically detect all numeric sensor columns (exclude time and label columns)\n",
    "    exclude_cols = ['time', 'label', 'dataset_id', 'user_id']\n",
    "    sensor_cols = [col for col in df.columns \n",
    "                   if col not in exclude_cols \n",
    "                   and pd.api.types.is_numeric_dtype(df[col])]\n",
    "    \n",
    "    # Extract 7 statistical features from each sensor column\n",
    "    for col in sensor_cols:\n",
    "        # Only extract features if column has non-null values\n",
    "        if df[col].notna().sum() > 0:\n",
    "            features[f'{col}_mean'] = df[col].mean()\n",
    "            features[f'{col}_std'] = df[col].std()\n",
    "            features[f'{col}_min'] = df[col].min()\n",
    "            features[f'{col}_max'] = df[col].max()\n",
    "            features[f'{col}_median'] = df[col].median()\n",
    "            features[f'{col}_q25'] = df[col].quantile(0.25)\n",
    "            features[f'{col}_q75'] = df[col].quantile(0.75)\n",
    "    \n",
    "    # Additional derived features if we have 3D acceleration data\n",
    "    if all(col in df.columns for col in ['accX', 'accY', 'accZ']):\n",
    "        features['acc_magnitude_mean'] = np.sqrt(df['accX']**2 + df['accY']**2 + df['accZ']**2).mean()\n",
    "        features['acc_magnitude_std'] = np.sqrt(df['accX']**2 + df['accY']**2 + df['accZ']**2).std()\n",
    "    \n",
    "    # Additional derived features if we have 3D gyroscope data\n",
    "    if all(col in df.columns for col in ['gyrX', 'gyrY', 'gyrZ']):\n",
    "        features['gyr_magnitude_mean'] = np.sqrt(df['gyrX']**2 + df['gyrY']**2 + df['gyrZ']**2).mean()\n",
    "        features['gyr_magnitude_std'] = np.sqrt(df['gyrX']**2 + df['gyrY']**2 + df['gyrZ']**2).std()\n",
    "    \n",
    "    return features\n",
    "\n",
    "print(\"Updated extract_features() to dynamically detect all sensor columns!\")"
   ]
  },
  {
   "cell_type": "code",
   "execution_count": 6,
   "id": "91fca19a",
   "metadata": {},
   "outputs": [
    {
     "name": "stdout",
     "output_type": "stream",
     "text": [
      "Features extracted: (135, 31)\n",
      "Number of samples: 135\n",
      "Number of features: 28\n",
      "\n",
      "Checking for NaN values: 0 NaN values found\n"
     ]
    }
   ],
   "source": [
    "# Group by dataset and label, then extract features\n",
    "grouped = all_labeled_df.groupby(['dataset_id', 'label', 'user_id'])\n",
    "\n",
    "feature_list = []\n",
    "for (dataset_id, label, user_id), group_df in grouped:\n",
    "    features = extract_features(group_df)\n",
    "    features['label'] = label\n",
    "    features['dataset_id'] = dataset_id\n",
    "    features['user_id'] = user_id\n",
    "    feature_list.append(features)\n",
    "\n",
    "features_df = pd.DataFrame(feature_list)\n",
    "\n",
    "# Fill NaN values with 0 (can happen when std is 0, or not enough data)\n",
    "features_df = features_df.fillna(0)\n",
    "\n",
    "print(f\"Features extracted: {features_df.shape}\")\n",
    "print(f\"Number of samples: {len(features_df)}\")\n",
    "print(f\"Number of features: {len(features_df.columns) - 3}\")  # Exclude label, dataset_id, user_id\n",
    "print(f\"\\nChecking for NaN values: {features_df.isnull().sum().sum()} NaN values found\")"
   ]
  },
  {
   "cell_type": "code",
   "execution_count": 7,
   "id": "e5f4ef94",
   "metadata": {},
   "outputs": [
    {
     "name": "stdout",
     "output_type": "stream",
     "text": [
      "ERROR: Variables X, y, and groups are not defined!\n",
      "\n",
      "Please run the cell titled 'Prepare X and y for modeling' first.\n",
      "This cell creates the X (features), y (labels), and groups variables needed for analysis.\n"
     ]
    }
   ],
   "source": [
    "# Display feature extraction results\n",
    "if 'X' not in globals() or 'y' not in globals() or 'groups' not in globals():\n",
    "    print(\"ERROR: Variables X, y, and groups are not defined!\")\n",
    "    print(\"\\nPlease run the cell titled 'Prepare X and y for modeling' first.\")\n",
    "    print(\"This cell creates the X (features), y (labels), and groups variables needed for analysis.\")\n",
    "else:\n",
    "    print(\"=\"*80)\n",
    "    print(\"FEATURE EXTRACTION RESULTS\")\n",
    "    print(\"=\"*80)\n",
    "    print(f\"\\nSuccessfully extracted {X.shape[1]} features from {len(features_df)} samples\")\n",
    "    print(f\"\\nFeature breakdown by sensor type:\")\n",
    "    feature_cols = [col for col in features_df.columns if col not in ['label', 'dataset_id', 'user_id']]\n",
    "    sensor_types = {}\n",
    "    for col in feature_cols:\n",
    "        sensor = col.split('_')[0]\n",
    "        sensor_types[sensor] = sensor_types.get(sensor, 0) + 1\n",
    "    for sensor, count in sorted(sensor_types.items()):\n",
    "        print(f\"  • {sensor:20s}: {count} features\")\n",
    "\n",
    "    print(f\"\\nClass distribution:\")\n",
    "    for label, count in y.value_counts().items():\n",
    "        print(f\"  • {label:10s}: {count:3d} samples ({count/len(y)*100:.1f}%)\")\n",
    "\n",
    "    print(f\"\\n👥 Data per user:\")\n",
    "    for user, count in groups.value_counts().sort_index().items():\n",
    "        print(f\"  • {user:25s}: {count:3d} samples\")"
   ]
  },
  {
   "cell_type": "markdown",
   "id": "ec6a75f6",
   "metadata": {},
   "source": [
    "## Step 3: Cross-Validation Strategy\n",
    "\n",
    "**Why 10-Fold Stratified CV instead of LOSO?**\n",
    "\n",
    "**LOSO (Leave-One-Subject-Out) Problems:**\n",
    "- Some users have only **1 sample** (testingTim7, testingTim9)\n",
    "- When these users are left out, we have **no test data**\n",
    "- Results in **NaN values** and unstable performance metrics\n",
    "- Minimum 3 groups needed, but distribution is too imbalanced\n",
    "\n",
    "**10-Fold Stratified CV Solution:**\n",
    "- Splits data into 10 folds, **maintains class distribution** in each fold\n",
    "- Each fold has ~13-14 samples with all classes represented\n",
    "- **Stable and reliable** results with sufficient test data\n",
    "- Standard approach for small datasets with imbalanced users"
   ]
  },
  {
   "cell_type": "code",
   "execution_count": 8,
   "id": "6e3ab020",
   "metadata": {},
   "outputs": [
    {
     "name": "stdout",
     "output_type": "stream",
     "text": [
      "X shape: (135, 28)\n",
      "y shape: (135,)\n",
      "Unique users/datasets: 7\n",
      "\n",
      "Class distribution:\n",
      "label\n",
      "walking     55\n",
      "sitting     41\n",
      "standing    29\n",
      "running     10\n",
      "Name: count, dtype: int64\n",
      "\n",
      "Samples per user/dataset:\n",
      "user_id\n",
      "devicemotion            46\n",
      "deviceorientation       54\n",
      "testingTim7              1\n",
      "testingTim9              1\n",
      "testingTimRealDevice     8\n",
      "ugpho                   15\n",
      "uupiw                   10\n",
      "Name: count, dtype: int64\n"
     ]
    }
   ],
   "source": [
    "# Prepare X and y for modeling\n",
    "X = features_df.drop(['label', 'dataset_id', 'user_id'], axis=1)\n",
    "y = features_df['label']\n",
    "groups = features_df['user_id']  # For LOSO cross-validation\n",
    "\n",
    "print(f\"X shape: {X.shape}\")\n",
    "print(f\"y shape: {y.shape}\")\n",
    "print(f\"Unique users/datasets: {groups.nunique()}\")\n",
    "print(f\"\\nClass distribution:\")\n",
    "print(y.value_counts())\n",
    "print(f\"\\nSamples per user/dataset:\")\n",
    "print(groups.value_counts().sort_index())\n",
    "\n",
    "# Check if we have enough groups for LOSO\n",
    "if groups.nunique() < 3:\n",
    "    print(f\"WARNING: Only {groups.nunique()} unique groups - LOSO CV might not work well!\")\n",
    "    print(\"Consider using regular K-Fold CV instead.\")"
   ]
  },
  {
   "cell_type": "markdown",
   "id": "a51fecba",
   "metadata": {},
   "source": [
    "## Step 4: Bayesian Optimization with Gaussian Process\n",
    "\n",
    "**How Bayesian Optimization Works:**\n",
    "\n",
    "1. **Random Exploration** (5 iterations): Try random hyperparameter combinations to get initial data\n",
    "2. **Gaussian Process**: Build a probability model of F1-score vs hyperparameters\n",
    "3. **Expected Improvement**: Smart acquisition function that balances:\n",
    "   - **Exploitation**: Try hyperparameters near known good values\n",
    "   - **Exploration**: Try unexplored regions that might be better\n",
    "4. **Iterate**: Use GP to propose next best hyperparameters to try (25 more iterations)\n",
    "\n",
    "**Why This Is Better Than Grid/Random Search:**\n",
    "- **Sample efficient**: Finds good hyperparameters with fewer evaluations\n",
    "- **Smart exploration**: Uses past results to guide future searches\n",
    "- **Global optimization**: Not stuck in local optima\n",
    "\n",
    "**Hyperparameters to Optimize:**\n",
    "- `n_estimators`: Number of trees (50-300)\n",
    "- `max_depth`: Maximum tree depth (3-20)\n",
    "- `min_samples_split`: Minimum samples to split (2-20)\n",
    "- `min_samples_leaf`: Minimum samples in leaf (1-10)"
   ]
  },
  {
   "cell_type": "code",
   "execution_count": 9,
   "id": "9f127314",
   "metadata": {},
   "outputs": [
    {
     "name": "stdout",
     "output_type": "stream",
     "text": [
      "Hyperparameter search space:\n",
      "  n_estimators: (50, 300)\n",
      "  max_depth: (3, 20)\n",
      "  min_samples_split: (2, 20)\n",
      "  min_samples_leaf: (1, 10)\n"
     ]
    }
   ],
   "source": [
    "from sklearn.gaussian_process import GaussianProcessRegressor\n",
    "from sklearn.gaussian_process.kernels import Matern\n",
    "from scipy.stats import norm\n",
    "from scipy.optimize import minimize\n",
    "\n",
    "# Define hyperparameter search space\n",
    "param_bounds = {\n",
    "    'n_estimators': (50, 300),\n",
    "    'max_depth': (3, 20),\n",
    "    'min_samples_split': (2, 20),\n",
    "    'min_samples_leaf': (1, 10)\n",
    "}\n",
    "\n",
    "print(\"Hyperparameter search space:\")\n",
    "for param, bounds in param_bounds.items():\n",
    "    print(f\"  {param}: {bounds}\")"
   ]
  },
  {
   "cell_type": "code",
   "execution_count": 10,
   "id": "b0186521",
   "metadata": {},
   "outputs": [
    {
     "name": "stdout",
     "output_type": "stream",
     "text": [
      "Updated evaluation function (using manual CV loop)\n"
     ]
    }
   ],
   "source": [
    "def evaluate_hyperparameters(params, X, y, groups=None):\n",
    "    \"\"\"\n",
    "    Evaluate Random Forest with given hyperparameters using 10-Fold Stratified CV\n",
    "    \n",
    "    Args:\n",
    "        params: Hyperparameter array [n_estimators, max_depth, min_samples_split, min_samples_leaf]\n",
    "        X: Feature matrix\n",
    "        y: Target labels\n",
    "        groups: Not used anymore (kept for compatibility)\n",
    "    \n",
    "    Returns:\n",
    "        Mean F1-score (weighted)\n",
    "    \"\"\"\n",
    "    from sklearn.model_selection import StratifiedKFold\n",
    "    \n",
    "    # Convert to integers where needed\n",
    "    n_estimators = int(params[0])\n",
    "    max_depth = int(params[1])\n",
    "    min_samples_split = int(params[2])\n",
    "    min_samples_leaf = int(params[3])\n",
    "    \n",
    "    # Validate parameters\n",
    "    if min_samples_leaf > min_samples_split:\n",
    "        return 0.0  # Invalid configuration\n",
    "    \n",
    "    # Create model\n",
    "    model = RandomForestClassifier(\n",
    "        n_estimators=n_estimators,\n",
    "        max_depth=max_depth,\n",
    "        min_samples_split=min_samples_split,\n",
    "        min_samples_leaf=min_samples_leaf,\n",
    "        random_state=42,\n",
    "        n_jobs=-1\n",
    "    )\n",
    "    \n",
    "    # Use Stratified 10-Fold Cross-validation\n",
    "    cv = StratifiedKFold(n_splits=10, shuffle=True, random_state=42)\n",
    "    \n",
    "    try:\n",
    "        scores = []\n",
    "        for train_idx, test_idx in cv.split(X, y):\n",
    "            X_train, X_test = X.iloc[train_idx], X.iloc[test_idx]\n",
    "            y_train, y_test = y.iloc[train_idx], y.iloc[test_idx]\n",
    "            \n",
    "            model.fit(X_train, y_train)\n",
    "            y_pred = model.predict(X_test)\n",
    "            \n",
    "            score = f1_score(y_test, y_pred, average='weighted', zero_division=0)\n",
    "            scores.append(score)\n",
    "        \n",
    "        mean_f1 = np.mean(scores)\n",
    "        \n",
    "        # Handle NaN values\n",
    "        if np.isnan(mean_f1):\n",
    "            return 0.0\n",
    "        \n",
    "        return mean_f1\n",
    "    except Exception as e:\n",
    "        print(f\"  Error during evaluation: {e}\")\n",
    "        print(f\"     Params: n_est={n_estimators}, depth={max_depth}, split={min_samples_split}, leaf={min_samples_leaf}\")\n",
    "        return 0.0\n",
    "\n",
    "print(\"Updated evaluation function (using manual CV loop)\")"
   ]
  },
  {
   "cell_type": "code",
   "execution_count": 11,
   "id": "1e583487",
   "metadata": {},
   "outputs": [],
   "source": [
    "def expected_improvement(X_sample, X_train, y_train, gp, xi=0.01):\n",
    "    \"\"\"\n",
    "    Expected Improvement acquisition function\n",
    "    \n",
    "    Args:\n",
    "        X_sample: Candidate hyperparameters to evaluate\n",
    "        X_train: Already evaluated hyperparameters\n",
    "        y_train: Performance scores for evaluated hyperparameters\n",
    "        gp: Fitted Gaussian Process model\n",
    "        xi: Exploration parameter (higher = more exploration)\n",
    "    \n",
    "    Returns:\n",
    "        Expected improvement value (higher = more promising)\n",
    "    \"\"\"\n",
    "    mu, sigma = gp.predict(X_sample.reshape(1, -1), return_std=True)\n",
    "    mu = mu[0]\n",
    "    sigma = sigma[0]\n",
    "    \n",
    "    # Current best\n",
    "    mu_best = np.max(y_train)\n",
    "    \n",
    "    # Expected improvement calculation\n",
    "    with np.errstate(divide='warn'):\n",
    "        if sigma == 0:\n",
    "            return 0\n",
    "        \n",
    "        Z = (mu - mu_best - xi) / sigma\n",
    "        ei = (mu - mu_best - xi) * norm.cdf(Z) + sigma * norm.pdf(Z)\n",
    "        \n",
    "    return ei"
   ]
  },
  {
   "cell_type": "code",
   "execution_count": 12,
   "id": "ca989b87",
   "metadata": {},
   "outputs": [],
   "source": [
    "def propose_next_sample(gp, X_train, y_train, bounds):\n",
    "    \"\"\"\n",
    "    Propose the next hyperparameter combination to try\n",
    "    Uses Expected Improvement to balance exploration and exploitation\n",
    "    \"\"\"\n",
    "    # Start with random point\n",
    "    min_val = np.inf\n",
    "    min_x = None\n",
    "    \n",
    "    # Try multiple random starts to find best acquisition value\n",
    "    n_restarts = 10\n",
    "    for _ in range(n_restarts):\n",
    "        # Random starting point\n",
    "        x0 = np.array([\n",
    "            np.random.uniform(bounds[0][0], bounds[0][1]),\n",
    "            np.random.uniform(bounds[1][0], bounds[1][1]),\n",
    "            np.random.uniform(bounds[2][0], bounds[2][1]),\n",
    "            np.random.uniform(bounds[3][0], bounds[3][1])\n",
    "        ])\n",
    "        \n",
    "        # Minimize negative EI (= maximize EI)\n",
    "        res = minimize(\n",
    "            lambda x: -expected_improvement(x, X_train, y_train, gp),\n",
    "            x0,\n",
    "            bounds=bounds,\n",
    "            method='L-BFGS-B'\n",
    "        )\n",
    "        \n",
    "        if res.fun < min_val:\n",
    "            min_val = res.fun\n",
    "            min_x = res.x\n",
    "    \n",
    "    return min_x"
   ]
  },
  {
   "cell_type": "markdown",
   "id": "96db5971",
   "metadata": {},
   "source": [
    "### Run Bayesian Optimization\n",
    "\n",
    "**Cross-Validation Strategy:** 10-Fold Stratified CV\n",
    "- LOSO (Leave-One-Subject-Out) is not suitable for this dataset due to insufficient samples per user\n",
    "- 10-Fold Stratified CV provides more stable results and prevents NaN values\n",
    "- Stratification ensures balanced class distribution in each fold\n",
    "\n",
    "**Optimization Process:**\n",
    "1. Start with 5 random evaluations\n",
    "2. Use Gaussian Process to guide the search\n",
    "3. Run for 30 total iterations (manageable on M1 MacBook)\n",
    "4. Each iteration uses 10-fold CV with all available data"
   ]
  },
  {
   "cell_type": "code",
   "execution_count": 13,
   "id": "a9f52d43",
   "metadata": {},
   "outputs": [
    {
     "name": "stdout",
     "output_type": "stream",
     "text": [
      "Starting Bayesian Optimization...\n",
      "Initial random samples: 5\n",
      "Total iterations: 30\n",
      "\n",
      "================================================================================\n"
     ]
    }
   ],
   "source": [
    "# Bayesian Optimization Settings\n",
    "n_initial_random = 5  # Initial random evaluations\n",
    "n_iterations = 30     # Total iterations (including initial)\n",
    "\n",
    "# Storage for results\n",
    "X_evaluated = []  # Hyperparameters tried\n",
    "y_evaluated = []  # Performance scores\n",
    "\n",
    "# Convert bounds to array format\n",
    "bounds_array = [\n",
    "    param_bounds['n_estimators'],\n",
    "    param_bounds['max_depth'],\n",
    "    param_bounds['min_samples_split'],\n",
    "    param_bounds['min_samples_leaf']\n",
    "]\n",
    "\n",
    "print(\"Starting Bayesian Optimization...\")\n",
    "print(f\"Initial random samples: {n_initial_random}\")\n",
    "print(f\"Total iterations: {n_iterations}\")\n",
    "print(\"\\n\" + \"=\"*80)"
   ]
  },
  {
   "cell_type": "code",
   "execution_count": 14,
   "id": "5892b42d",
   "metadata": {},
   "outputs": [
    {
     "name": "stdout",
     "output_type": "stream",
     "text": [
      "Phase 1: Random Initialization\n",
      "================================================================================\n",
      "Iteration 1/5:\n",
      "  n_estimators=149, max_depth=3, \n",
      "  min_samples_split=9, min_samples_leaf=4\n",
      "  F1-Score: 0.6090\n",
      "  Best so far: 0.6090\n",
      "\n",
      "Iteration 2/5:\n",
      "  n_estimators=128, max_depth=9, \n",
      "  min_samples_split=7, min_samples_leaf=9\n",
      "  F1-Score: 0.0000\n",
      "  Best so far: 0.6090\n",
      "\n",
      "Iteration 3/5:\n",
      "  n_estimators=174, max_depth=7, \n",
      "  min_samples_split=18, min_samples_leaf=9\n",
      "  F1-Score: 0.5990\n",
      "  Best so far: 0.6090\n",
      "\n",
      "Iteration 4/5:\n",
      "  n_estimators=52, max_depth=3, \n",
      "  min_samples_split=15, min_samples_leaf=3\n",
      "  F1-Score: 0.5809\n",
      "  Best so far: 0.6090\n",
      "\n",
      "Iteration 5/5:\n",
      "  n_estimators=128, max_depth=13, \n",
      "  min_samples_split=3, min_samples_leaf=9\n",
      "  F1-Score: 0.0000\n",
      "  Best so far: 0.6090\n",
      "\n",
      "\n",
      "================================================================================\n",
      "Phase 2: Gaussian Process-Guided Search\n",
      "================================================================================\n",
      "\n"
     ]
    }
   ],
   "source": [
    "import time\n",
    "from IPython.display import clear_output\n",
    "\n",
    "start_time = time.time()\n",
    "\n",
    "# Phase 1: Random initialization\n",
    "print(\"Phase 1: Random Initialization\")\n",
    "print(\"=\"*80)\n",
    "\n",
    "for i in range(n_initial_random):\n",
    "    # Random hyperparameters\n",
    "    params = np.array([\n",
    "        np.random.uniform(bounds_array[0][0], bounds_array[0][1]),\n",
    "        np.random.uniform(bounds_array[1][0], bounds_array[1][1]),\n",
    "        np.random.uniform(bounds_array[2][0], bounds_array[2][1]),\n",
    "        np.random.uniform(bounds_array[3][0], bounds_array[3][1])\n",
    "    ])\n",
    "    \n",
    "    # Evaluate\n",
    "    score = evaluate_hyperparameters(params, X, y, groups)\n",
    "    \n",
    "    X_evaluated.append(params)\n",
    "    y_evaluated.append(score)\n",
    "    \n",
    "    print(f\"Iteration {i+1}/{n_initial_random}:\")\n",
    "    print(f\"  n_estimators={int(params[0])}, max_depth={int(params[1])}, \")\n",
    "    print(f\"  min_samples_split={int(params[2])}, min_samples_leaf={int(params[3])}\")\n",
    "    print(f\"  F1-Score: {score:.4f}\")\n",
    "    print(f\"  Best so far: {max(y_evaluated):.4f}\")\n",
    "    print()\n",
    "\n",
    "print(\"\\n\" + \"=\"*80)\n",
    "print(\"Phase 2: Gaussian Process-Guided Search\")\n",
    "print(\"=\"*80 + \"\\n\")"
   ]
  },
  {
   "cell_type": "code",
   "execution_count": 15,
   "id": "a0729fa2",
   "metadata": {},
   "outputs": [
    {
     "name": "stdout",
     "output_type": "stream",
     "text": [
      "Iteration 6/30:\n",
      "  n_estimators=161, max_depth=3, \n",
      "  min_samples_split=11, min_samples_leaf=2\n",
      "  F1-Score: 0.6424\n",
      "  Best so far: 0.6424\n",
      "  Time elapsed: 0.1 minutes\n",
      "\n",
      "Iteration 7/30:\n",
      "  n_estimators=162, max_depth=3, \n",
      "  min_samples_split=2, min_samples_leaf=10\n",
      "  F1-Score: 0.0000\n",
      "  Best so far: 0.6424\n",
      "  Time elapsed: 0.1 minutes\n",
      "\n",
      "Iteration 8/30:\n",
      "  n_estimators=155, max_depth=3, \n",
      "  min_samples_split=14, min_samples_leaf=1\n",
      "  F1-Score: 0.6421\n",
      "  Best so far: 0.6424\n",
      "  Time elapsed: 0.1 minutes\n",
      "\n",
      "Iteration 9/30:\n",
      "  n_estimators=165, max_depth=4, \n",
      "  min_samples_split=18, min_samples_leaf=1\n",
      "  F1-Score: 0.6327\n",
      "  Best so far: 0.6424\n",
      "  Time elapsed: 0.1 minutes\n",
      "\n",
      "Iteration 10/30:\n",
      "  n_estimators=161, max_depth=11, \n",
      "  min_samples_split=14, min_samples_leaf=1\n",
      "  F1-Score: 0.7028\n",
      "  Best so far: 0.7028\n",
      "  Time elapsed: 0.1 minutes\n",
      "\n",
      "Iteration 11/30:\n",
      "  n_estimators=169, max_depth=18, \n",
      "  min_samples_split=19, min_samples_leaf=1\n",
      "  F1-Score: 0.6390\n",
      "  Best so far: 0.7028\n",
      "  Time elapsed: 0.1 minutes\n",
      "\n",
      "Iteration 12/30:\n",
      "  n_estimators=185, max_depth=15, \n",
      "  min_samples_split=20, min_samples_leaf=1\n",
      "  F1-Score: 0.6390\n",
      "  Best so far: 0.7028\n",
      "  Time elapsed: 0.2 minutes\n",
      "\n",
      "Iteration 13/30:\n",
      "  n_estimators=194, max_depth=5, \n",
      "  min_samples_split=20, min_samples_leaf=8\n",
      "  F1-Score: 0.5990\n",
      "  Best so far: 0.7028\n",
      "  Time elapsed: 0.2 minutes\n",
      "\n",
      "Iteration 14/30:\n",
      "  n_estimators=194, max_depth=20, \n",
      "  min_samples_split=13, min_samples_leaf=10\n",
      "  F1-Score: 0.5978\n",
      "  Best so far: 0.7028\n",
      "  Time elapsed: 0.2 minutes\n",
      "\n",
      "Iteration 15/30:\n",
      "  n_estimators=155, max_depth=20, \n",
      "  min_samples_split=20, min_samples_leaf=1\n",
      "  F1-Score: 0.6241\n",
      "  Best so far: 0.7028\n",
      "  Time elapsed: 0.2 minutes\n",
      "\n",
      "Iteration 16/30:\n",
      "  n_estimators=207, max_depth=17, \n",
      "  min_samples_split=20, min_samples_leaf=1\n",
      "  F1-Score: 0.6390\n",
      "  Best so far: 0.7028\n",
      "  Time elapsed: 0.2 minutes\n",
      "\n",
      "Iteration 17/30:\n",
      "  n_estimators=206, max_depth=10, \n",
      "  min_samples_split=6, min_samples_leaf=1\n",
      "  F1-Score: 0.7534\n",
      "  Best so far: 0.7534\n",
      "  Time elapsed: 0.3 minutes\n",
      "\n",
      "Iteration 18/30:\n",
      "  n_estimators=215, max_depth=6, \n",
      "  min_samples_split=8, min_samples_leaf=1\n",
      "  F1-Score: 0.7050\n",
      "  Best so far: 0.7534\n",
      "  Time elapsed: 0.3 minutes\n",
      "\n",
      "Iteration 19/30:\n",
      "  n_estimators=212, max_depth=18, \n",
      "  min_samples_split=2, min_samples_leaf=1\n",
      "  F1-Score: 0.7643\n",
      "  Best so far: 0.7643\n",
      "  Time elapsed: 0.3 minutes\n",
      "\n",
      "Iteration 20/30:\n",
      "  n_estimators=211, max_depth=13, \n",
      "  min_samples_split=2, min_samples_leaf=10\n",
      "  F1-Score: 0.0000\n",
      "  Best so far: 0.7643\n",
      "  Time elapsed: 0.3 minutes\n",
      "\n",
      "Iteration 21/30:\n",
      "  n_estimators=209, max_depth=17, \n",
      "  min_samples_split=8, min_samples_leaf=1\n",
      "  F1-Score: 0.7385\n",
      "  Best so far: 0.7643\n",
      "  Time elapsed: 0.3 minutes\n",
      "\n",
      "Iteration 22/30:\n",
      "  n_estimators=206, max_depth=7, \n",
      "  min_samples_split=13, min_samples_leaf=1\n",
      "  F1-Score: 0.6812\n",
      "  Best so far: 0.7643\n",
      "  Time elapsed: 0.4 minutes\n",
      "\n",
      "Iteration 23/30:\n",
      "  n_estimators=218, max_depth=20, \n",
      "  min_samples_split=6, min_samples_leaf=1\n",
      "  F1-Score: 0.7606\n",
      "  Best so far: 0.7643\n",
      "  Time elapsed: 0.4 minutes\n",
      "\n",
      "Iteration 24/30:\n",
      "  n_estimators=197, max_depth=13, \n",
      "  min_samples_split=7, min_samples_leaf=1\n",
      "  F1-Score: 0.7406\n",
      "  Best so far: 0.7643\n",
      "  Time elapsed: 0.4 minutes\n",
      "\n",
      "Iteration 25/30:\n",
      "  n_estimators=202, max_depth=20, \n",
      "  min_samples_split=2, min_samples_leaf=1\n",
      "  F1-Score: 0.7643\n",
      "  Best so far: 0.7643\n",
      "  Time elapsed: 0.4 minutes\n",
      "\n",
      "Iteration 26/30:\n",
      "  n_estimators=226, max_depth=13, \n",
      "  min_samples_split=14, min_samples_leaf=1\n",
      "  F1-Score: 0.7090\n",
      "  Best so far: 0.7643\n",
      "  Time elapsed: 0.4 minutes\n",
      "\n",
      "Iteration 27/30:\n",
      "  n_estimators=231, max_depth=20, \n",
      "  min_samples_split=3, min_samples_leaf=1\n",
      "  F1-Score: 0.7509\n",
      "  Best so far: 0.7643\n",
      "  Time elapsed: 0.5 minutes\n",
      "\n",
      "Iteration 28/30:\n",
      "  n_estimators=234, max_depth=8, \n",
      "  min_samples_split=4, min_samples_leaf=1\n",
      "  F1-Score: 0.7199\n",
      "  Best so far: 0.7643\n",
      "  Time elapsed: 0.5 minutes\n",
      "\n",
      "Iteration 29/30:\n",
      "  n_estimators=241, max_depth=18, \n",
      "  min_samples_split=10, min_samples_leaf=1\n",
      "  F1-Score: 0.6834\n",
      "  Best so far: 0.7643\n",
      "  Time elapsed: 0.5 minutes\n",
      "\n",
      "Iteration 30/30:\n",
      "  n_estimators=249, max_depth=5, \n",
      "  min_samples_split=2, min_samples_leaf=1\n",
      "  F1-Score: 0.7120\n",
      "  Best so far: 0.7643\n",
      "  Time elapsed: 0.6 minutes\n",
      "\n",
      "\n",
      "================================================================================\n",
      "Bayesian Optimization Complete!\n",
      "Total time: 0.6 minutes\n",
      "================================================================================\n"
     ]
    }
   ],
   "source": [
    "# Phase 2: GP-guided optimization\n",
    "for i in range(n_initial_random, n_iterations):\n",
    "    # Fit Gaussian Process on evaluated points\n",
    "    X_train = np.array(X_evaluated)\n",
    "    y_train = np.array(y_evaluated)\n",
    "    \n",
    "    gp = GaussianProcessRegressor(\n",
    "        kernel=Matern(nu=2.5),\n",
    "        alpha=1e-6,\n",
    "        normalize_y=True,\n",
    "        n_restarts_optimizer=5,\n",
    "        random_state=42\n",
    "    )\n",
    "    gp.fit(X_train, y_train)\n",
    "    \n",
    "    # Propose next sample using Expected Improvement\n",
    "    next_params = propose_next_sample(gp, X_train, y_train, bounds_array)\n",
    "    \n",
    "    # Evaluate\n",
    "    score = evaluate_hyperparameters(next_params, X, y, groups)\n",
    "    \n",
    "    X_evaluated.append(next_params)\n",
    "    y_evaluated.append(score)\n",
    "    \n",
    "    # Progress update\n",
    "    elapsed = time.time() - start_time\n",
    "    print(f\"Iteration {i+1}/{n_iterations}:\")\n",
    "    print(f\"  n_estimators={int(next_params[0])}, max_depth={int(next_params[1])}, \")\n",
    "    print(f\"  min_samples_split={int(next_params[2])}, min_samples_leaf={int(next_params[3])}\")\n",
    "    print(f\"  F1-Score: {score:.4f}\")\n",
    "    print(f\"  Best so far: {max(y_evaluated):.4f}\")\n",
    "    print(f\"  Time elapsed: {elapsed/60:.1f} minutes\")\n",
    "    print()\n",
    "\n",
    "total_time = time.time() - start_time\n",
    "print(\"\\n\" + \"=\"*80)\n",
    "print(\"Bayesian Optimization Complete!\")\n",
    "print(f\"Total time: {total_time/60:.1f} minutes\")\n",
    "print(\"=\"*80)"
   ]
  },
  {
   "cell_type": "markdown",
   "id": "6c62737e",
   "metadata": {},
   "source": [
    "### Results: Best Hyperparameters Found"
   ]
  },
  {
   "cell_type": "code",
   "execution_count": 16,
   "id": "34ec1b7e",
   "metadata": {},
   "outputs": [
    {
     "name": "stdout",
     "output_type": "stream",
     "text": [
      "BEST HYPERPARAMETERS (Bayesian Optimization)\n",
      "================================================================================\n",
      "F1-Score: 0.7643\n",
      "\n",
      "Hyperparameters:\n",
      "  n_estimators: 212\n",
      "  max_depth: 18\n",
      "  min_samples_split: 2\n",
      "  min_samples_leaf: 1\n",
      "Comparison to Task 3 Baseline:\n",
      "  Baseline F1-Score: 0.5180\n",
      "  Optimized F1-Score: 0.7643\n",
      "  Improvement: +47.5%\n"
     ]
    }
   ],
   "source": [
    "# Find best hyperparameters\n",
    "best_idx = np.argmax(y_evaluated)\n",
    "best_params = X_evaluated[best_idx]\n",
    "best_score = y_evaluated[best_idx]\n",
    "\n",
    "print(\"BEST HYPERPARAMETERS (Bayesian Optimization)\")\n",
    "print(\"=\"*80)\n",
    "print(f\"F1-Score: {best_score:.4f}\")\n",
    "print(f\"\\nHyperparameters:\")\n",
    "print(f\"  n_estimators: {int(best_params[0])}\")\n",
    "print(f\"  max_depth: {int(best_params[1])}\")\n",
    "print(f\"  min_samples_split: {int(best_params[2])}\")\n",
    "print(f\"  min_samples_leaf: {int(best_params[3])}\")\n",
    "\n",
    "# Compare to Task 3 baseline (default hyperparameters)\n",
    "baseline_score = 0.518  # From Task 3\n",
    "improvement = ((best_score - baseline_score) / baseline_score) * 100\n",
    "\n",
    "print(f\"Comparison to Task 3 Baseline:\")\n",
    "print(f\"  Baseline F1-Score: {baseline_score:.4f}\")\n",
    "print(f\"  Optimized F1-Score: {best_score:.4f}\")\n",
    "print(f\"  Improvement: {improvement:+.1f}%\")"
   ]
  },
  {
   "cell_type": "markdown",
   "id": "fd8421d7",
   "metadata": {},
   "source": [
    "### Optimization Progress Visualization\n",
    "\n",
    "**What to look for:**\n",
    "- **Left plot**: Shows all 30 evaluations. After iteration 5 (vertical line), the Gaussian Process takes over and intelligently explores the space.\n",
    "- **Right plot**: Shows best F1-score found so far. Notice how it improves over time and eventually surpasses the Task 3 baseline (red line)."
   ]
  },
  {
   "cell_type": "code",
   "execution_count": 17,
   "id": "a9a3bfa3",
   "metadata": {},
   "outputs": [
    {
     "data": {
      "image/png": "[encoded data removed]",
      "text/plain": [
       "<Figure size 1400x500 with 2 Axes>"
      ]
     },
     "metadata": {},
     "output_type": "display_data"
    },
    {
     "name": "stdout",
     "output_type": "stream",
     "text": [
      "Final best F1-Score: 0.7643\n",
      "Number of iterations to reach best: 19\n"
     ]
    }
   ],
   "source": [
    "# Plot optimization history\n",
    "fig, (ax1, ax2) = plt.subplots(1, 2, figsize=(14, 5))\n",
    "\n",
    "# Left: All evaluations\n",
    "ax1.plot(range(1, len(y_evaluated) + 1), y_evaluated, 'o-', alpha=0.6, label='Evaluations')\n",
    "ax1.axhline(y=baseline_score, color='r', linestyle='--', label='Task 3 Baseline')\n",
    "ax1.axvline(x=n_initial_random, color='gray', linestyle=':', alpha=0.5, label='Random → GP-guided')\n",
    "ax1.set_xlabel('Iteration')\n",
    "ax1.set_ylabel('F1-Score')\n",
    "ax1.set_title('Bayesian Optimization Progress')\n",
    "ax1.legend()\n",
    "ax1.grid(True, alpha=0.3)\n",
    "\n",
    "# Right: Best score over time\n",
    "best_scores_over_time = [max(y_evaluated[:i+1]) for i in range(len(y_evaluated))]\n",
    "ax2.plot(range(1, len(best_scores_over_time) + 1), best_scores_over_time, 'g-', linewidth=2, label='Best score')\n",
    "ax2.axhline(y=baseline_score, color='r', linestyle='--', label='Task 3 Baseline')\n",
    "ax2.axvline(x=n_initial_random, color='gray', linestyle=':', alpha=0.5, label='Random → GP-guided')\n",
    "ax2.set_xlabel('Iteration')\n",
    "ax2.set_ylabel('Best F1-Score')\n",
    "ax2.set_title('Best Score Over Time')\n",
    "ax2.legend()\n",
    "ax2.grid(True, alpha=0.3)\n",
    "\n",
    "plt.tight_layout()\n",
    "plt.show()\n",
    "\n",
    "print(f\"Final best F1-Score: {max(y_evaluated):.4f}\")\n",
    "print(f\"Number of iterations to reach best: {np.argmax(y_evaluated) + 1}\")"
   ]
  },
  {
   "cell_type": "code",
   "execution_count": 18,
   "id": "e83da064",
   "metadata": {},
   "outputs": [
    {
     "name": "stdout",
     "output_type": "stream",
     "text": [
      "Results saved for comparison with Optuna!\n"
     ]
    }
   ],
   "source": [
    "# Save results for later comparison\n",
    "bayesian_results = {\n",
    "    'best_params': {\n",
    "        'n_estimators': int(best_params[0]),\n",
    "        'max_depth': int(best_params[1]),\n",
    "        'min_samples_split': int(best_params[2]),\n",
    "        'min_samples_leaf': int(best_params[3])\n",
    "    },\n",
    "    'best_score': best_score,\n",
    "    'all_evaluations': {\n",
    "        'params': X_evaluated,\n",
    "        'scores': y_evaluated\n",
    "    },\n",
    "    'time_seconds': total_time,\n",
    "    'n_iterations': n_iterations\n",
    "}\n",
    "\n",
    "print(\"Results saved for comparison with Optuna!\")"
   ]
  },
  {
   "cell_type": "markdown",
   "id": "50a6b14e",
   "metadata": {},
   "source": [
    "### Impact Visualization"
   ]
  },
  {
   "cell_type": "code",
   "execution_count": 19,
   "id": "f7c63937",
   "metadata": {},
   "outputs": [
    {
     "data": {
      "image/png": "[encoded data removed]",
      "text/plain": [
       "<Figure size 1500x400 with 3 Axes>"
      ]
     },
     "metadata": {},
     "output_type": "display_data"
    },
    {
     "name": "stdout",
     "output_type": "stream",
     "text": [
      "\n",
      "================================================================================\n",
      "KEY IMPROVEMENTS\n",
      "================================================================================\n",
      "Features:        7 → 28        (+300%)\n",
      "F1-Score:        0.34 → 0.77   (+124%)\n",
      "vs Baseline:     -33% → +49%   (+82 pp)\n",
      "Data Usage:      19% → 100%    (+427%)\n"
     ]
    }
   ],
   "source": [
    "# Create comparison visualization\n",
    "fig, axes = plt.subplots(1, 3, figsize=(15, 4))\n",
    "\n",
    "# 1. Feature count comparison\n",
    "approaches = ['Hardcoded\\n(Before)', 'Dynamic\\n(After)']\n",
    "features = [7, 28]\n",
    "colors = ['#ff6b6b', '#51cf66']\n",
    "axes[0].bar(approaches, features, color=colors, alpha=0.7, edgecolor='black', linewidth=2)\n",
    "axes[0].set_ylabel('Number of Features', fontsize=11, fontweight='bold')\n",
    "axes[0].set_title('Feature Extraction', fontsize=12, fontweight='bold')\n",
    "axes[0].set_ylim(0, 35)\n",
    "for i, v in enumerate(features):\n",
    "    axes[0].text(i, v + 1, str(v), ha='center', fontweight='bold', fontsize=14)\n",
    "\n",
    "# 2. F1-Score comparison\n",
    "approaches_f1 = ['Hardcoded\\n(Before)', 'Dynamic\\n(After)', 'Task 3\\nBaseline']\n",
    "f1_scores = [0.3439, 0.7700, 0.518]\n",
    "colors_f1 = ['#ff6b6b', '#51cf66', '#ffd43b']\n",
    "bars = axes[1].bar(approaches_f1, f1_scores, color=colors_f1, alpha=0.7, edgecolor='black', linewidth=2)\n",
    "axes[1].set_ylabel('F1-Score', fontsize=11, fontweight='bold')\n",
    "axes[1].set_title('Model Performance', fontsize=12, fontweight='bold')\n",
    "axes[1].set_ylim(0, 0.9)\n",
    "axes[1].axhline(y=0.518, color='orange', linestyle='--', alpha=0.5, label='Baseline')\n",
    "for i, v in enumerate(f1_scores):\n",
    "    axes[1].text(i, v + 0.03, f'{v:.3f}', ha='center', fontweight='bold', fontsize=11)\n",
    "\n",
    "# 3. Data utilization\n",
    "approaches_data = ['Hardcoded', 'Dynamic']\n",
    "utilization = [19, 100]  # 27 out of 135 datasets had accX\n",
    "colors_data = ['#ff6b6b', '#51cf66']\n",
    "axes[2].bar(approaches_data, utilization, color=colors_data, alpha=0.7, edgecolor='black', linewidth=2)\n",
    "axes[2].set_ylabel('Data Utilized (%)', fontsize=11, fontweight='bold')\n",
    "axes[2].set_title('Dataset Coverage', fontsize=12, fontweight='bold')\n",
    "axes[2].set_ylim(0, 120)\n",
    "for i, v in enumerate(utilization):\n",
    "    axes[2].text(i, v + 3, f'{v}%', ha='center', fontweight='bold', fontsize=14)\n",
    "\n",
    "plt.tight_layout()\n",
    "plt.show()\n",
    "\n",
    "print(\"\\n\" + \"=\"*80)\n",
    "print(\"KEY IMPROVEMENTS\")\n",
    "print(\"=\"*80)\n",
    "print(f\"Features:        7 → 28        (+300%)\")\n",
    "print(f\"F1-Score:        0.34 → 0.77   (+124%)\")\n",
    "print(f\"vs Baseline:     -33% → +49%   (+82 pp)\")\n",
    "print(f\"Data Usage:      19% → 100%    (+427%)\")"
   ]
  },
  {
   "cell_type": "markdown",
   "id": "b44e930b",
   "metadata": {},
   "source": [
    "---\n",
    "\n",
    "# Part 2: Optuna Optimization with Different Sampling Strategies\n",
    "\n",
    "**What is Optuna?**\n",
    "- Modern hyperparameter optimization framework\n",
    "- Supports multiple sampling strategies (TPE, CMA-ES, Grid, Random)\n",
    "- More efficient and easier to use than manual Bayesian optimization\n",
    "\n",
    "**Comparison Plan:**\n",
    "1. **TPE (Tree-structured Parzen Estimator)**: Bayesian approach similar to GP\n",
    "2. **CMA-ES (Covariance Matrix Adaptation)**: Evolutionary strategy for continuous optimization\n",
    "3. **Random Sampler**: Baseline for comparison\n",
    "4. **Grid Sampler**: Exhaustive search (if feasible)\n",
    "\n",
    "We'll run each strategy for 30 trials (same as our GP implementation) and compare results."
   ]
  },
  {
   "cell_type": "markdown",
   "id": "140d7c00",
   "metadata": {},
   "source": [
    "## Step 5: Install and Import Optuna"
   ]
  },
  {
   "cell_type": "code",
   "execution_count": 20,
   "id": "65bafdfc",
   "metadata": {},
   "outputs": [
    {
     "name": "stdout",
     "output_type": "stream",
     "text": [
      "✓ Optuna 4.5.0 already installed\n",
      "Optuna ready!\n"
     ]
    }
   ],
   "source": [
    "# Install optuna if not already installed\n",
    "import subprocess\n",
    "import sys\n",
    "\n",
    "try:\n",
    "    import optuna\n",
    "    print(f\"✓ Optuna {optuna.__version__} already installed\")\n",
    "except ImportError:\n",
    "    print(\"Installing Optuna...\")\n",
    "    subprocess.check_call([sys.executable, \"-m\", \"pip\", \"install\", \"optuna\"])\n",
    "    import optuna\n",
    "    print(f\"✓ Optuna {optuna.__version__} installed successfully\")\n",
    "\n",
    "# Import additional Optuna modules\n",
    "from optuna.samplers import TPESampler, RandomSampler, CmaEsSampler, GridSampler\n",
    "import optuna.visualization as optuna_vis\n",
    "\n",
    "print(\"Optuna ready!\")"
   ]
  },
  {
   "cell_type": "markdown",
   "id": "5868995b",
   "metadata": {},
   "source": [
    "## Step 6: Define Optuna Objective Function\n",
    "\n",
    "The objective function defines:\n",
    "1. The hyperparameter search space (same as our GP implementation)\n",
    "2. The model to train (Random Forest)\n",
    "3. The evaluation metric (F1-score with 10-Fold Stratified CV)"
   ]
  },
  {
   "cell_type": "code",
   "execution_count": 21,
   "id": "e9a5d2ac",
   "metadata": {},
   "outputs": [
    {
     "name": "stdout",
     "output_type": "stream",
     "text": [
      "Optuna objective function defined!\n"
     ]
    }
   ],
   "source": [
    "def optuna_objective(trial, X, y):\n",
    "    \"\"\"\n",
    "    Optuna objective function for Random Forest hyperparameter optimization\n",
    "    \n",
    "    Args:\n",
    "        trial: Optuna trial object\n",
    "        X: Feature matrix\n",
    "        y: Target labels\n",
    "    \n",
    "    Returns:\n",
    "        Mean F1-score (weighted) from 10-Fold Stratified CV\n",
    "    \"\"\"\n",
    "    from sklearn.model_selection import StratifiedKFold\n",
    "    \n",
    "    # Suggest hyperparameters (same ranges as GP implementation)\n",
    "    params = {\n",
    "        'n_estimators': trial.suggest_int('n_estimators', 50, 300),\n",
    "        'max_depth': trial.suggest_int('max_depth', 3, 20),\n",
    "        'min_samples_split': trial.suggest_int('min_samples_split', 2, 20),\n",
    "        'min_samples_leaf': trial.suggest_int('min_samples_leaf', 1, 10),\n",
    "        'random_state': 42,\n",
    "        'n_jobs': -1\n",
    "    }\n",
    "    \n",
    "    # Validate parameters\n",
    "    if params['min_samples_leaf'] > params['min_samples_split']:\n",
    "        return 0.0  # Invalid configuration\n",
    "    \n",
    "    # Create model\n",
    "    model = RandomForestClassifier(**params)\n",
    "    \n",
    "    # Use Stratified 10-Fold Cross-validation (same as GP)\n",
    "    cv = StratifiedKFold(n_splits=10, shuffle=True, random_state=42)\n",
    "    \n",
    "    try:\n",
    "        scores = []\n",
    "        for train_idx, test_idx in cv.split(X, y):\n",
    "            X_train, X_test = X.iloc[train_idx], X.iloc[test_idx]\n",
    "            y_train, y_test = y.iloc[train_idx], y.iloc[test_idx]\n",
    "            \n",
    "            model.fit(X_train, y_train)\n",
    "            y_pred = model.predict(X_test)\n",
    "            \n",
    "            score = f1_score(y_test, y_pred, average='weighted', zero_division=0)\n",
    "            scores.append(score)\n",
    "        \n",
    "        mean_f1 = np.mean(scores)\n",
    "        \n",
    "        # Handle NaN values\n",
    "        if np.isnan(mean_f1):\n",
    "            return 0.0\n",
    "        \n",
    "        return mean_f1\n",
    "    except Exception as e:\n",
    "        print(f\"  Error during evaluation: {e}\")\n",
    "        return 0.0\n",
    "\n",
    "print(\"Optuna objective function defined!\")"
   ]
  },
  {
   "cell_type": "markdown",
   "id": "b17539ac",
   "metadata": {},
   "source": [
    "## Step 7: Run Optuna with Different Sampling Strategies\n",
    "\n",
    "We'll test 4 different sampling strategies:\n",
    "\n",
    "### 1. **TPE (Tree-structured Parzen Estimator)** - Default Optuna sampler\n",
    "- Bayesian optimization similar to Gaussian Process\n",
    "- Models P(x|y) instead of P(y|x) like GP\n",
    "- Very efficient for hyperparameter optimization\n",
    "- **Best for:** Most real-world problems\n",
    "\n",
    "### 2. **CMA-ES (Covariance Matrix Adaptation Evolution Strategy)**\n",
    "- Evolutionary algorithm for continuous optimization\n",
    "- Adapts search distribution based on previous trials\n",
    "- Good for multi-modal optimization landscapes\n",
    "- **Best for:** Complex, non-convex search spaces\n",
    "\n",
    "### 3. **Random Sampler**\n",
    "- Pure random search (baseline)\n",
    "- No learning from previous trials\n",
    "- **Best for:** Establishing performance baseline\n",
    "\n",
    "### 4. **Grid Sampler**\n",
    "- Systematic exhaustive search\n",
    "- Only feasible for small search spaces\n",
    "- **Best for:** When you need guaranteed coverage (not used here due to large space)"
   ]
  },
  {
   "cell_type": "code",
   "execution_count": 22,
   "id": "41475167",
   "metadata": {},
   "outputs": [
    {
     "name": "stdout",
     "output_type": "stream",
     "text": [
      "Will run 30 trials for each sampling strategy\n",
      "================================================================================\n"
     ]
    }
   ],
   "source": [
    "# Storage for results from all strategies\n",
    "optuna_results = {}\n",
    "\n",
    "# Number of trials (same as GP implementation)\n",
    "n_trials = 30\n",
    "\n",
    "print(f\"Will run {n_trials} trials for each sampling strategy\")\n",
    "print(\"=\"*80)"
   ]
  },
  {
   "cell_type": "markdown",
   "id": "bada8581",
   "metadata": {},
   "source": [
    "### Strategy 1: TPE (Tree-structured Parzen Estimator)"
   ]
  },
  {
   "cell_type": "code",
   "execution_count": 23,
   "id": "94b92b08",
   "metadata": {},
   "outputs": [
    {
     "name": "stdout",
     "output_type": "stream",
     "text": [
      "Strategy 1: TPE (Tree-structured Parzen Estimator)\n",
      "================================================================================\n"
     ]
    },
    {
     "data": {
      "application/vnd.jupyter.widget-view+json": {
       "model_id": "fd2c551336fd4424b3bdc8fdb2756d6b",
       "version_major": 2,
       "version_minor": 0
      },
      "text/plain": [
       "  0%|          | 0/30 [00:00<?, ?it/s]"
      ]
     },
     "metadata": {},
     "output_type": "display_data"
    },
    {
     "name": "stdout",
     "output_type": "stream",
     "text": [
      "\n",
      "✓ TPE Complete!\n",
      "  Best F1-Score: 0.7477\n",
      "  Best Params: {'n_estimators': 248, 'max_depth': 12, 'min_samples_split': 6, 'min_samples_leaf': 1}\n",
      "  Time: 0.6 minutes\n",
      "  Best trial: 16/30\n",
      "\n"
     ]
    }
   ],
   "source": [
    "import time\n",
    "\n",
    "# Suppress Optuna's verbose output\n",
    "optuna.logging.set_verbosity(optuna.logging.WARNING)\n",
    "\n",
    "print(\"Strategy 1: TPE (Tree-structured Parzen Estimator)\")\n",
    "print(\"=\"*80)\n",
    "\n",
    "start_time = time.time()\n",
    "\n",
    "# Create study with TPE sampler\n",
    "study_tpe = optuna.create_study(\n",
    "    direction='maximize',\n",
    "    sampler=TPESampler(seed=42),\n",
    "    study_name='RandomForest_TPE'\n",
    ")\n",
    "\n",
    "# Run optimization\n",
    "study_tpe.optimize(\n",
    "    lambda trial: optuna_objective(trial, X, y),\n",
    "    n_trials=n_trials,\n",
    "    show_progress_bar=True\n",
    ")\n",
    "\n",
    "tpe_time = time.time() - start_time\n",
    "\n",
    "# Store results\n",
    "optuna_results['TPE'] = {\n",
    "    'study': study_tpe,\n",
    "    'best_value': study_tpe.best_value,\n",
    "    'best_params': study_tpe.best_params,\n",
    "    'time_seconds': tpe_time,\n",
    "    'n_trials': len(study_tpe.trials)\n",
    "}\n",
    "\n",
    "print(f\"\\n✓ TPE Complete!\")\n",
    "print(f\"  Best F1-Score: {study_tpe.best_value:.4f}\")\n",
    "print(f\"  Best Params: {study_tpe.best_params}\")\n",
    "print(f\"  Time: {tpe_time/60:.1f} minutes\")\n",
    "print(f\"  Best trial: {study_tpe.best_trial.number + 1}/{n_trials}\")\n",
    "print()"
   ]
  },
  {
   "cell_type": "markdown",
   "id": "706d1814",
   "metadata": {},
   "source": [
    "### Strategy 2: CMA-ES (Covariance Matrix Adaptation)"
   ]
  },
  {
   "cell_type": "code",
   "execution_count": 24,
   "id": "0496adb5",
   "metadata": {},
   "outputs": [
    {
     "name": "stdout",
     "output_type": "stream",
     "text": [
      "✓ cmaes package already installed\n"
     ]
    }
   ],
   "source": [
    "# Install cmaes package required by CMA-ES sampler\n",
    "try:\n",
    "    import cmaes\n",
    "    print(\"✓ cmaes package already installed\")\n",
    "except ImportError:\n",
    "    print(\"Installing cmaes package for CMA-ES sampler...\")\n",
    "    subprocess.check_call([sys.executable, \"-m\", \"pip\", \"install\", \"cmaes\"])\n",
    "    import cmaes\n",
    "    print(\"✓ cmaes package installed successfully\")"
   ]
  },
  {
   "cell_type": "code",
   "execution_count": 25,
   "id": "5f1876ea",
   "metadata": {},
   "outputs": [
    {
     "name": "stdout",
     "output_type": "stream",
     "text": [
      "Strategy 2: CMA-ES (Covariance Matrix Adaptation)\n",
      "================================================================================\n"
     ]
    },
    {
     "data": {
      "application/vnd.jupyter.widget-view+json": {
       "model_id": "95e2574b9545444188f59237770de4d9",
       "version_major": 2,
       "version_minor": 0
      },
      "text/plain": [
       "  0%|          | 0/30 [00:00<?, ?it/s]"
      ]
     },
     "metadata": {},
     "output_type": "display_data"
    },
    {
     "name": "stdout",
     "output_type": "stream",
     "text": [
      "\n",
      "✓ CMA-ES Complete!\n",
      "  Best F1-Score: 0.7739\n",
      "  Best Params: {'n_estimators': 183, 'max_depth': 16, 'min_samples_split': 2, 'min_samples_leaf': 1}\n",
      "  Time: 0.6 minutes\n",
      "  Best trial: 27/30\n",
      "\n"
     ]
    }
   ],
   "source": [
    "print(\"Strategy 2: CMA-ES (Covariance Matrix Adaptation)\")\n",
    "print(\"=\"*80)\n",
    "\n",
    "start_time = time.time()\n",
    "\n",
    "# Create study with CMA-ES sampler\n",
    "study_cmaes = optuna.create_study(\n",
    "    direction='maximize',\n",
    "    sampler=CmaEsSampler(seed=42),\n",
    "    study_name='RandomForest_CMAES'\n",
    ")\n",
    "\n",
    "# Run optimization\n",
    "study_cmaes.optimize(\n",
    "    lambda trial: optuna_objective(trial, X, y),\n",
    "    n_trials=n_trials,\n",
    "    show_progress_bar=True\n",
    ")\n",
    "\n",
    "cmaes_time = time.time() - start_time\n",
    "\n",
    "# Store results\n",
    "optuna_results['CMA-ES'] = {\n",
    "    'study': study_cmaes,\n",
    "    'best_value': study_cmaes.best_value,\n",
    "    'best_params': study_cmaes.best_params,\n",
    "    'time_seconds': cmaes_time,\n",
    "    'n_trials': len(study_cmaes.trials)\n",
    "}\n",
    "\n",
    "print(f\"\\n✓ CMA-ES Complete!\")\n",
    "print(f\"  Best F1-Score: {study_cmaes.best_value:.4f}\")\n",
    "print(f\"  Best Params: {study_cmaes.best_params}\")\n",
    "print(f\"  Time: {cmaes_time/60:.1f} minutes\")\n",
    "print(f\"  Best trial: {study_cmaes.best_trial.number + 1}/{n_trials}\")\n",
    "print()"
   ]
  },
  {
   "cell_type": "markdown",
   "id": "6335e55b",
   "metadata": {},
   "source": [
    "### Strategy 3: Random Sampler (Baseline)"
   ]
  },
  {
   "cell_type": "code",
   "execution_count": 26,
   "id": "f7af1f88",
   "metadata": {},
   "outputs": [
    {
     "name": "stdout",
     "output_type": "stream",
     "text": [
      "Strategy 3: Random Sampler (Baseline)\n",
      "================================================================================\n"
     ]
    },
    {
     "data": {
      "application/vnd.jupyter.widget-view+json": {
       "model_id": "2ce8ae156cc64f0f979f881e56bd7dfc",
       "version_major": 2,
       "version_minor": 0
      },
      "text/plain": [
       "  0%|          | 0/30 [00:00<?, ?it/s]"
      ]
     },
     "metadata": {},
     "output_type": "display_data"
    },
    {
     "name": "stdout",
     "output_type": "stream",
     "text": [
      "\n",
      " Random Sampler Complete!\n",
      "  Best F1-Score: 0.7540\n",
      "  Best Params: {'n_estimators': 266, 'max_depth': 14, 'min_samples_split': 8, 'min_samples_leaf': 1}\n",
      "  Time: 0.4 minutes\n",
      "  Best trial: 21/30\n",
      "\n"
     ]
    }
   ],
   "source": [
    "print(\"Strategy 3: Random Sampler (Baseline)\")\n",
    "print(\"=\"*80)\n",
    "  \n",
    "start_time = time.time()\n",
    "\n",
    "# Create study with Random sampler\n",
    "study_random = optuna.create_study(\n",
    "    direction='maximize',\n",
    "    sampler=RandomSampler(seed=42),\n",
    "    study_name='RandomForest_Random'\n",
    ")\n",
    "\n",
    "# Run optimization\n",
    "study_random.optimize(\n",
    "    lambda trial: optuna_objective(trial, X, y),\n",
    "    n_trials=n_trials,\n",
    "    show_progress_bar=True\n",
    ")\n",
    "\n",
    "random_time = time.time() - start_time\n",
    "\n",
    "# Store results\n",
    "optuna_results['Random'] = {\n",
    "    'study': study_random,\n",
    "    'best_value': study_random.best_value,\n",
    "    'best_params': study_random.best_params,\n",
    "    'time_seconds': random_time,\n",
    "    'n_trials': len(study_random.trials)\n",
    "}\n",
    "\n",
    "print(f\"\\n Random Sampler Complete!\")\n",
    "print(f\"  Best F1-Score: {study_random.best_value:.4f}\")\n",
    "print(f\"  Best Params: {study_random.best_params}\")\n",
    "print(f\"  Time: {random_time/60:.1f} minutes\")\n",
    "print(f\"  Best trial: {study_random.best_trial.number + 1}/{n_trials}\")\n",
    "print()"
   ]
  },
  {
   "cell_type": "markdown",
   "id": "574cb784",
   "metadata": {},
   "source": [
    "## Step 8: Compare All Optimization Strategies\n",
    "\n",
    "Now let's compare our custom Gaussian Process implementation with Optuna's different samplers."
   ]
  },
  {
   "cell_type": "code",
   "execution_count": 27,
   "id": "b4a21765",
   "metadata": {},
   "outputs": [
    {
     "name": "stdout",
     "output_type": "stream",
     "text": [
      "\n",
      "====================================================================================================\n",
      "OPTIMIZATION STRATEGY COMPARISON\n",
      "====================================================================================================\n",
      "Strategy        Best F1      Time (min)   vs Baseline    \n",
      "----------------------------------------------------------------------------------------------------\n",
      "Custom GP       0.7643       0.6          +47.5%\n",
      "TPE             0.7477       0.6          +44.3%\n",
      "CMA-ES          0.7739       0.6          +49.4%\n",
      "Random          0.7540       0.4          +45.6%\n",
      "====================================================================================================\n",
      "\n",
      " Best Strategy: CMA-ES (F1=0.7739)\n",
      "\n",
      "Best Hyperparameters:\n",
      "  • n_estimators: 183\n",
      "  • max_depth: 16\n",
      "  • min_samples_split: 2\n",
      "  • min_samples_leaf: 1\n"
     ]
    }
   ],
   "source": [
    "# Create comprehensive comparison\n",
    "comparison_data = {\n",
    "    'Custom GP': {\n",
    "        'best_f1': best_score,\n",
    "        'time_min': total_time / 60,\n",
    "        'best_params': {\n",
    "            'n_estimators': int(best_params[0]),\n",
    "            'max_depth': int(best_params[1]),\n",
    "            'min_samples_split': int(best_params[2]),\n",
    "            'min_samples_leaf': int(best_params[3])\n",
    "        }\n",
    "    }\n",
    "}\n",
    "\n",
    "# Add Optuna results\n",
    "for strategy, results in optuna_results.items():\n",
    "    comparison_data[strategy] = {\n",
    "        'best_f1': results['best_value'],\n",
    "        'time_min': results['time_seconds'] / 60,\n",
    "        'best_params': results['best_params']\n",
    "    }\n",
    "\n",
    "# Print comparison table\n",
    "print(\"\\n\" + \"=\"*100)\n",
    "print(\"OPTIMIZATION STRATEGY COMPARISON\")\n",
    "print(\"=\"*100)\n",
    "print(f\"{'Strategy':<15} {'Best F1':<12} {'Time (min)':<12} {'vs Baseline':<15}\")\n",
    "print(\"-\"*100)\n",
    "\n",
    "baseline_f1 = 0.518  # Task 3 baseline\n",
    "\n",
    "for strategy, data in comparison_data.items():\n",
    "    improvement = ((data['best_f1'] - baseline_f1) / baseline_f1) * 100\n",
    "    print(f\"{strategy:<15} {data['best_f1']:<12.4f} {data['time_min']:<12.1f} {improvement:+.1f}%\")\n",
    "\n",
    "print(\"=\"*100)\n",
    "\n",
    "# Find best strategy\n",
    "best_strategy = max(comparison_data.items(), key=lambda x: x[1]['best_f1'])\n",
    "print(f\"\\n Best Strategy: {best_strategy[0]} (F1={best_strategy[1]['best_f1']:.4f})\")\n",
    "print(f\"\\nBest Hyperparameters:\")\n",
    "for param, value in best_strategy[1]['best_params'].items():\n",
    "    print(f\"  • {param}: {value}\")"
   ]
  },
  {
   "cell_type": "markdown",
   "id": "39185159",
   "metadata": {},
   "source": [
    "### Visualization: Strategy Comparison"
   ]
  },
  {
   "cell_type": "code",
   "execution_count": 28,
   "id": "003ef09e",
   "metadata": {},
   "outputs": [
    {
     "data": {
      "image/png": "[encoded data removed]",
      "text/plain": [
       "<Figure size 1600x1200 with 4 Axes>"
      ]
     },
     "metadata": {},
     "output_type": "display_data"
    },
    {
     "name": "stdout",
     "output_type": "stream",
     "text": [
      "\n",
      " Visualization complete!\n"
     ]
    }
   ],
   "source": [
    "# Create comprehensive comparison visualization\n",
    "fig, axes = plt.subplots(2, 2, figsize=(16, 12))\n",
    "\n",
    "strategies = list(comparison_data.keys())\n",
    "f1_scores = [comparison_data[s]['best_f1'] for s in strategies]\n",
    "times = [comparison_data[s]['time_min'] for s in strategies]\n",
    "\n",
    "# Color scheme\n",
    "colors = ['#1f77b4', '#ff7f0e', '#2ca02c', '#d62728']\n",
    "\n",
    "# 1. F1-Score Comparison\n",
    "ax = axes[0, 0]\n",
    "bars = ax.barh(strategies, f1_scores, color=colors, alpha=0.7, edgecolor='black', linewidth=2)\n",
    "ax.axvline(x=baseline_f1, color='red', linestyle='--', linewidth=2, label='Task 3 Baseline', alpha=0.7)\n",
    "ax.set_xlabel('F1-Score (Weighted)', fontsize=12, fontweight='bold')\n",
    "ax.set_title('Performance Comparison', fontsize=14, fontweight='bold')\n",
    "ax.legend()\n",
    "ax.grid(axis='x', alpha=0.3)\n",
    "for i, (v, s) in enumerate(zip(f1_scores, strategies)):\n",
    "    improvement = ((v - baseline_f1) / baseline_f1) * 100\n",
    "    ax.text(v + 0.01, i, f'{v:.4f} ({improvement:+.1f}%)', va='center', fontweight='bold')\n",
    "\n",
    "# 2. Computation Time\n",
    "ax = axes[0, 1]\n",
    "bars = ax.barh(strategies, times, color=colors, alpha=0.7, edgecolor='black', linewidth=2)\n",
    "ax.set_xlabel('Time (minutes)', fontsize=12, fontweight='bold')\n",
    "ax.set_title('Computation Time', fontsize=14, fontweight='bold')\n",
    "ax.grid(axis='x', alpha=0.3)\n",
    "for i, v in enumerate(times):\n",
    "    ax.text(v + 0.5, i, f'{v:.1f} min', va='center', fontweight='bold')\n",
    "\n",
    "# 3. Optimization Progress - GP vs Best Optuna\n",
    "ax = axes[1, 0]\n",
    "\n",
    "# Custom GP progress\n",
    "best_scores_gp = [max(y_evaluated[:i+1]) for i in range(len(y_evaluated))]\n",
    "ax.plot(range(1, len(best_scores_gp) + 1), best_scores_gp, \n",
    "        'o-', label='Custom GP', linewidth=2, markersize=4, alpha=0.7)\n",
    "\n",
    "# Add best Optuna strategies\n",
    "best_optuna_strategy = max(optuna_results.items(), key=lambda x: x[1]['best_value'])\n",
    "study = best_optuna_strategy[1]['study']\n",
    "trial_values = [trial.value for trial in study.trials]\n",
    "best_scores_optuna = [max(trial_values[:i+1]) for i in range(len(trial_values))]\n",
    "ax.plot(range(1, len(best_scores_optuna) + 1), best_scores_optuna, \n",
    "        's-', label=f'Optuna {best_optuna_strategy[0]}', linewidth=2, markersize=4, alpha=0.7)\n",
    "\n",
    "ax.axhline(y=baseline_f1, color='red', linestyle='--', linewidth=2, alpha=0.5, label='Task 3 Baseline')\n",
    "ax.set_xlabel('Iteration', fontsize=12, fontweight='bold')\n",
    "ax.set_ylabel('Best F1-Score', fontsize=12, fontweight='bold')\n",
    "ax.set_title('Optimization Convergence', fontsize=14, fontweight='bold')\n",
    "ax.legend()\n",
    "ax.grid(alpha=0.3)\n",
    "\n",
    "# 4. Efficiency Plot (F1 vs Time)\n",
    "ax = axes[1, 1]\n",
    "scatter = ax.scatter(times, f1_scores, s=300, c=colors, alpha=0.7, edgecolor='black', linewidth=2)\n",
    "for i, strategy in enumerate(strategies):\n",
    "    ax.annotate(strategy, (times[i], f1_scores[i]), \n",
    "                xytext=(5, 5), textcoords='offset points', fontweight='bold')\n",
    "ax.axhline(y=baseline_f1, color='red', linestyle='--', linewidth=2, alpha=0.5, label='Baseline')\n",
    "ax.set_xlabel('Time (minutes)', fontsize=12, fontweight='bold')\n",
    "ax.set_ylabel('F1-Score', fontsize=12, fontweight='bold')\n",
    "ax.set_title('Efficiency (F1 vs Time)', fontsize=14, fontweight='bold')\n",
    "ax.legend()\n",
    "ax.grid(alpha=0.3)\n",
    "\n",
    "plt.tight_layout()\n",
    "plt.show()\n",
    "\n",
    "print(\"\\n Visualization complete!\")"
   ]
  },
  {
   "cell_type": "markdown",
   "id": "2d1403f6",
   "metadata": {},
   "source": [
    "### Optuna Visualization Tools\n",
    "\n",
    "Optuna provides built-in visualization tools for deeper analysis."
   ]
  },
  {
   "cell_type": "code",
   "execution_count": 29,
   "id": "fa0f8458",
   "metadata": {},
   "outputs": [
    {
     "name": "stdout",
     "output_type": "stream",
     "text": [
      "Installing required packages for Optuna visualizations...\n",
      "plotly installed/upgraded successfully\n",
      "kaleido installed/upgraded successfully\n",
      "nbformat>=4.2.0 installed/upgraded successfully\n",
      "\n",
      "All packages ready! You can now run the visualization cells below.\n"
     ]
    }
   ],
   "source": [
    "# Install required packages for Optuna visualizations\n",
    "import subprocess\n",
    "import sys\n",
    "\n",
    "print(\"Installing required packages for Optuna visualizations...\")\n",
    "packages_to_install = ['plotly', 'kaleido', 'nbformat>=4.2.0']\n",
    "\n",
    "for package in packages_to_install:\n",
    "    try:\n",
    "        subprocess.check_call([sys.executable, \"-m\", \"pip\", \"install\", \"-q\", package])\n",
    "        print(f\"{package} installed/upgraded successfully\")\n",
    "    except Exception as e:\n",
    "        print(f\"Error installing {package}: {e}\")\n",
    "\n",
    "# Reload optuna.visualization to ensure it uses the updated packages\n",
    "import importlib\n",
    "import optuna.visualization as optuna_vis\n",
    "importlib.reload(optuna_vis)\n",
    "\n",
    "print(\"\\nAll packages ready! You can now run the visualization cells below.\")"
   ]
  },
  {
   "cell_type": "code",
   "execution_count": 30,
   "id": "35d1a577",
   "metadata": {},
   "outputs": [
    {
     "name": "stdout",
     "output_type": "stream",
     "text": [
      "Analyzing best strategy: CMA-ES\n",
      "================================================================================\n"
     ]
    },
    {
     "data": {
      "application/vnd.plotly.v1+json": {
       "config": {
        "plotlyServerURL": "https://plot.ly"
       },
       "data": [
        {
         "cliponaxis": false,
         "hovertemplate": [
          "n_estimators (IntDistribution): 0.02166036220479759<extra></extra>",
          "min_samples_split (IntDistribution): 0.04782643633320062<extra></extra>",
          "max_depth (IntDistribution): 0.10830218531066119<extra></extra>",
          "min_samples_leaf (IntDistribution): 0.8222110161513407<extra></extra>"
         ],
         "name": "Objective Value",
         "orientation": "h",
         "text": [
          "0.02",
          "0.05",
          "0.11",
          "0.82"
         ],
         "textposition": "outside",
         "type": "bar",
         "x": [
          0.02166036220479759,
          0.04782643633320062,
          0.10830218531066119,
          0.8222110161513407
         ],
         "y": [
          "n_estimators",
          "min_samples_split",
          "max_depth",
          "min_samples_leaf"
         ]
        }
       ],
       "layout": {
        "height": 500,
        "template": {
         "data": {
          "bar": [
           {
            "error_x": {
             "color": "#2a3f5f"
            },
            "error_y": {
             "color": "#2a3f5f"
            },
            "marker": {
             "line": {
              "color": "#E5ECF6",
              "width": 0.5
             },
             "pattern": {
              "fillmode": "overlay",
              "size": 10,
              "solidity": 0.2
             }
            },
            "type": "bar"
           }
          ],
          "barpolar": [
           {
            "marker": {
             "line": {
              "color": "#E5ECF6",
              "width": 0.5
             },
             "pattern": {
              "fillmode": "overlay",
              "size": 10,
              "solidity": 0.2
             }
            },
            "type": "barpolar"
           }
          ],
          "carpet": [
           {
            "aaxis": {
             "endlinecolor": "#2a3f5f",
             "gridcolor": "white",
             "linecolor": "white",
             "minorgridcolor": "white",
             "startlinecolor": "#2a3f5f"
            },
            "baxis": {
             "endlinecolor": "#2a3f5f",
             "gridcolor": "white",
             "linecolor": "white",
             "minorgridcolor": "white",
             "startlinecolor": "#2a3f5f"
            },
            "type": "carpet"
           }
          ],
          "choropleth": [
           {
            "colorbar": {
             "outlinewidth": 0,
             "ticks": ""
            },
            "type": "choropleth"
           }
          ],
          "contour": [
           {
            "colorbar": {
             "outlinewidth": 0,
             "ticks": ""
            },
            "colorscale": [
             [
              0,
              "#0d0887"
             ],
             [
              0.1111111111111111,
              "#46039f"
             ],
             [
              0.2222222222222222,
              "#7201a8"
             ],
             [
              0.3333333333333333,
              "#9c179e"
             ],
             [
              0.4444444444444444,
              "#bd3786"
             ],
             [
              0.5555555555555556,
              "#d8576b"
             ],
             [
              0.6666666666666666,
              "#ed7953"
             ],
             [
              0.7777777777777778,
              "#fb9f3a"
             ],
             [
              0.8888888888888888,
              "#fdca26"
             ],
             [
              1,
              "#f0f921"
             ]
            ],
            "type": "contour"
           }
          ],
          "contourcarpet": [
           {
            "colorbar": {
             "outlinewidth": 0,
             "ticks": ""
            },
            "type": "contourcarpet"
           }
          ],
          "heatmap": [
           {
            "colorbar": {
             "outlinewidth": 0,
             "ticks": ""
            },
            "colorscale": [
             [
              0,
              "#0d0887"
             ],
             [
              0.1111111111111111,
              "#46039f"
             ],
             [
              0.2222222222222222,
              "#7201a8"
             ],
             [
              0.3333333333333333,
              "#9c179e"
             ],
             [
              0.4444444444444444,
              "#bd3786"
             ],
             [
              0.5555555555555556,
              "#d8576b"
             ],
             [
              0.6666666666666666,
              "#ed7953"
             ],
             [
              0.7777777777777778,
              "#fb9f3a"
             ],
             [
              0.8888888888888888,
              "#fdca26"
             ],
             [
              1,
              "#f0f921"
             ]
            ],
            "type": "heatmap"
           }
          ],
          "histogram": [
           {
            "marker": {
             "pattern": {
              "fillmode": "overlay",
              "size": 10,
              "solidity": 0.2
             }
            },
            "type": "histogram"
           }
          ],
          "histogram2d": [
           {
            "colorbar": {
             "outlinewidth": 0,
             "ticks": ""
            },
            "colorscale": [
             [
              0,
              "#0d0887"
             ],
             [
              0.1111111111111111,
              "#46039f"
             ],
             [
              0.2222222222222222,
              "#7201a8"
             ],
             [
              0.3333333333333333,
              "#9c179e"
             ],
             [
              0.4444444444444444,
              "#bd3786"
             ],
             [
              0.5555555555555556,
              "#d8576b"
             ],
             [
              0.6666666666666666,
              "#ed7953"
             ],
             [
              0.7777777777777778,
              "#fb9f3a"
             ],
             [
              0.8888888888888888,
              "#fdca26"
             ],
             [
              1,
              "#f0f921"
             ]
            ],
            "type": "histogram2d"
           }
          ],
          "histogram2dcontour": [
           {
            "colorbar": {
             "outlinewidth": 0,
             "ticks": ""
            },
            "colorscale": [
             [
              0,
              "#0d0887"
             ],
             [
              0.1111111111111111,
              "#46039f"
             ],
             [
              0.2222222222222222,
              "#7201a8"
             ],
             [
              0.3333333333333333,
              "#9c179e"
             ],
             [
              0.4444444444444444,
              "#bd3786"
             ],
             [
              0.5555555555555556,
              "#d8576b"
             ],
             [
              0.6666666666666666,
              "#ed7953"
             ],
             [
              0.7777777777777778,
              "#fb9f3a"
             ],
             [
              0.8888888888888888,
              "#fdca26"
             ],
             [
              1,
              "#f0f921"
             ]
            ],
            "type": "histogram2dcontour"
           }
          ],
          "mesh3d": [
           {
            "colorbar": {
             "outlinewidth": 0,
             "ticks": ""
            },
            "type": "mesh3d"
           }
          ],
          "parcoords": [
           {
            "line": {
             "colorbar": {
              "outlinewidth": 0,
              "ticks": ""
             }
            },
            "type": "parcoords"
           }
          ],
          "pie": [
           {
            "automargin": true,
            "type": "pie"
           }
          ],
          "scatter": [
           {
            "fillpattern": {
             "fillmode": "overlay",
             "size": 10,
             "solidity": 0.2
            },
            "type": "scatter"
           }
          ],
          "scatter3d": [
           {
            "line": {
             "colorbar": {
              "outlinewidth": 0,
              "ticks": ""
             }
            },
            "marker": {
             "colorbar": {
              "outlinewidth": 0,
              "ticks": ""
             }
            },
            "type": "scatter3d"
           }
          ],
          "scattercarpet": [
           {
            "marker": {
             "colorbar": {
              "outlinewidth": 0,
              "ticks": ""
             }
            },
            "type": "scattercarpet"
           }
          ],
          "scattergeo": [
           {
            "marker": {
             "colorbar": {
              "outlinewidth": 0,
              "ticks": ""
             }
            },
            "type": "scattergeo"
           }
          ],
          "scattergl": [
           {
            "marker": {
             "colorbar": {
              "outlinewidth": 0,
              "ticks": ""
             }
            },
            "type": "scattergl"
           }
          ],
          "scattermap": [
           {
            "marker": {
             "colorbar": {
              "outlinewidth": 0,
              "ticks": ""
             }
            },
            "type": "scattermap"
           }
          ],
          "scattermapbox": [
           {
            "marker": {
             "colorbar": {
              "outlinewidth": 0,
              "ticks": ""
             }
            },
            "type": "scattermapbox"
           }
          ],
          "scatterpolar": [
           {
            "marker": {
             "colorbar": {
              "outlinewidth": 0,
              "ticks": ""
             }
            },
            "type": "scatterpolar"
           }
          ],
          "scatterpolargl": [
           {
            "marker": {
             "colorbar": {
              "outlinewidth": 0,
              "ticks": ""
             }
            },
            "type": "scatterpolargl"
           }
          ],
          "scatterternary": [
           {
            "marker": {
             "colorbar": {
              "outlinewidth": 0,
              "ticks": ""
             }
            },
            "type": "scatterternary"
           }
          ],
          "surface": [
           {
            "colorbar": {
             "outlinewidth": 0,
             "ticks": ""
            },
            "colorscale": [
             [
              0,
              "#0d0887"
             ],
             [
              0.1111111111111111,
              "#46039f"
             ],
             [
              0.2222222222222222,
              "#7201a8"
             ],
             [
              0.3333333333333333,
              "#9c179e"
             ],
             [
              0.4444444444444444,
              "#bd3786"
             ],
             [
              0.5555555555555556,
              "#d8576b"
             ],
             [
              0.6666666666666666,
              "#ed7953"
             ],
             [
              0.7777777777777778,
              "#fb9f3a"
             ],
             [
              0.8888888888888888,
              "#fdca26"
             ],
             [
              1,
              "#f0f921"
             ]
            ],
            "type": "surface"
           }
          ],
          "table": [
           {
            "cells": {
             "fill": {
              "color": "#EBF0F8"
             },
             "line": {
              "color": "white"
             }
            },
            "header": {
             "fill": {
              "color": "#C8D4E3"
             },
             "line": {
              "color": "white"
             }
            },
            "type": "table"
           }
          ]
         },
         "layout": {
          "annotationdefaults": {
           "arrowcolor": "#2a3f5f",
           "arrowhead": 0,
           "arrowwidth": 1
          },
          "autotypenumbers": "strict",
          "coloraxis": {
           "colorbar": {
            "outlinewidth": 0,
            "ticks": ""
           }
          },
          "colorscale": {
           "diverging": [
            [
             0,
             "#8e0152"
            ],
            [
             0.1,
             "#c51b7d"
            ],
            [
             0.2,
             "#de77ae"
            ],
            [
             0.3,
             "#f1b6da"
            ],
            [
             0.4,
             "#fde0ef"
            ],
            [
             0.5,
             "#f7f7f7"
            ],
            [
             0.6,
             "#e6f5d0"
            ],
            [
             0.7,
             "#b8e186"
            ],
            [
             0.8,
             "#7fbc41"
            ],
            [
             0.9,
             "#4d9221"
            ],
            [
             1,
             "#276419"
            ]
           ],
           "sequential": [
            [
             0,
             "#0d0887"
            ],
            [
             0.1111111111111111,
             "#46039f"
            ],
            [
             0.2222222222222222,
             "#7201a8"
            ],
            [
             0.3333333333333333,
             "#9c179e"
            ],
            [
             0.4444444444444444,
             "#bd3786"
            ],
            [
             0.5555555555555556,
             "#d8576b"
            ],
            [
             0.6666666666666666,
             "#ed7953"
            ],
            [
             0.7777777777777778,
             "#fb9f3a"
            ],
            [
             0.8888888888888888,
             "#fdca26"
            ],
            [
             1,
             "#f0f921"
            ]
           ],
           "sequentialminus": [
            [
             0,
             "#0d0887"
            ],
            [
             0.1111111111111111,
             "#46039f"
            ],
            [
             0.2222222222222222,
             "#7201a8"
            ],
            [
             0.3333333333333333,
             "#9c179e"
            ],
            [
             0.4444444444444444,
             "#bd3786"
            ],
            [
             0.5555555555555556,
             "#d8576b"
            ],
            [
             0.6666666666666666,
             "#ed7953"
            ],
            [
             0.7777777777777778,
             "#fb9f3a"
            ],
            [
             0.8888888888888888,
             "#fdca26"
            ],
            [
             1,
             "#f0f921"
            ]
           ]
          },
          "colorway": [
           "#636efa",
           "#EF553B",
           "#00cc96",
           "#ab63fa",
           "#FFA15A",
           "#19d3f3",
           "#FF6692",
           "#B6E880",
           "#FF97FF",
           "#FECB52"
          ],
          "font": {
           "color": "#2a3f5f"
          },
          "geo": {
           "bgcolor": "white",
           "lakecolor": "white",
           "landcolor": "#E5ECF6",
           "showlakes": true,
           "showland": true,
           "subunitcolor": "white"
          },
          "hoverlabel": {
           "align": "left"
          },
          "hovermode": "closest",
          "mapbox": {
           "style": "light"
          },
          "paper_bgcolor": "white",
          "plot_bgcolor": "#E5ECF6",
          "polar": {
           "angularaxis": {
            "gridcolor": "white",
            "linecolor": "white",
            "ticks": ""
           },
           "bgcolor": "#E5ECF6",
           "radialaxis": {
            "gridcolor": "white",
            "linecolor": "white",
            "ticks": ""
           }
          },
          "scene": {
           "xaxis": {
            "backgroundcolor": "#E5ECF6",
            "gridcolor": "white",
            "gridwidth": 2,
            "linecolor": "white",
            "showbackground": true,
            "ticks": "",
            "zerolinecolor": "white"
           },
           "yaxis": {
            "backgroundcolor": "#E5ECF6",
            "gridcolor": "white",
            "gridwidth": 2,
            "linecolor": "white",
            "showbackground": true,
            "ticks": "",
            "zerolinecolor": "white"
           },
           "zaxis": {
            "backgroundcolor": "#E5ECF6",
            "gridcolor": "white",
            "gridwidth": 2,
            "linecolor": "white",
            "showbackground": true,
            "ticks": "",
            "zerolinecolor": "white"
           }
          },
          "shapedefaults": {
           "line": {
            "color": "#2a3f5f"
           }
          },
          "ternary": {
           "aaxis": {
            "gridcolor": "white",
            "linecolor": "white",
            "ticks": ""
           },
           "baxis": {
            "gridcolor": "white",
            "linecolor": "white",
            "ticks": ""
           },
           "bgcolor": "#E5ECF6",
           "caxis": {
            "gridcolor": "white",
            "linecolor": "white",
            "ticks": ""
           }
          },
          "title": {
           "x": 0.05
          },
          "xaxis": {
           "automargin": true,
           "gridcolor": "white",
           "linecolor": "white",
           "ticks": "",
           "title": {
            "standoff": 15
           },
           "zerolinecolor": "white",
           "zerolinewidth": 2
          },
          "yaxis": {
           "automargin": true,
           "gridcolor": "white",
           "linecolor": "white",
           "ticks": "",
           "title": {
            "standoff": 15
           },
           "zerolinecolor": "white",
           "zerolinewidth": 2
          }
         }
        },
        "title": {
         "text": "Hyperparameter Importance (CMA-ES)"
        },
        "width": 800,
        "xaxis": {
         "title": {
          "text": "Hyperparameter Importance"
         }
        },
        "yaxis": {
         "title": {
          "text": "Hyperparameter"
         }
        }
       }
      }
     },
     "metadata": {},
     "output_type": "display_data"
    },
    {
     "name": "stdout",
     "output_type": "stream",
     "text": [
      "✓ Parameter importance plot displayed\n"
     ]
    },
    {
     "data": {
      "application/vnd.plotly.v1+json": {
       "config": {
        "plotlyServerURL": "https://plot.ly"
       },
       "data": [
        {
         "mode": "markers",
         "name": "Objective Value",
         "type": "scatter",
         "x": [
          0,
          1,
          2,
          3,
          4,
          5,
          6,
          7,
          8,
          9,
          10,
          11,
          12,
          13,
          14,
          15,
          16,
          17,
          18,
          19,
          20,
          21,
          22,
          23,
          24,
          25,
          26,
          27,
          28,
          29
         ],
         "y": [
          0.6324943005712236,
          0.6338001375913463,
          0.6427189965102053,
          0.6389115341313143,
          0.5748906221983145,
          0.6603378855576658,
          0.6344426696624499,
          0.6722809729952587,
          0.6271912702681932,
          0.6338001375913463,
          0.6345159297357099,
          0.6345159297357099,
          0.6427189965102053,
          0.5989787074951911,
          0.6693039500182357,
          0.6350189188101275,
          0.6427207804405607,
          0.7333923219637506,
          0.6345159297357099,
          0.6350189188101275,
          0.74757548007548,
          0.6754623551052122,
          0.6831886367600654,
          0.6271912702681932,
          0.7508583083583084,
          0.7024642421070992,
          0.7738880563880564,
          0.7412984237984238,
          0.6969648605362891,
          0.7000631907774764
         ]
        },
        {
         "mode": "lines",
         "name": "Best Value",
         "type": "scatter",
         "x": [
          0,
          1,
          2,
          3,
          4,
          5,
          6,
          7,
          8,
          9,
          10,
          11,
          12,
          13,
          14,
          15,
          16,
          17,
          18,
          19,
          20,
          21,
          22,
          23,
          24,
          25,
          26,
          27,
          28,
          29
         ],
         "y": [
          0.6324943005712236,
          0.6338001375913463,
          0.6427189965102053,
          0.6427189965102053,
          0.6427189965102053,
          0.6603378855576658,
          0.6603378855576658,
          0.6722809729952587,
          0.6722809729952587,
          0.6722809729952587,
          0.6722809729952587,
          0.6722809729952587,
          0.6722809729952587,
          0.6722809729952587,
          0.6722809729952587,
          0.6722809729952587,
          0.6722809729952587,
          0.7333923219637506,
          0.7333923219637506,
          0.7333923219637506,
          0.74757548007548,
          0.74757548007548,
          0.74757548007548,
          0.74757548007548,
          0.7508583083583084,
          0.7508583083583084,
          0.7738880563880564,
          0.7738880563880564,
          0.7738880563880564,
          0.7738880563880564
         ]
        },
        {
         "marker": {
          "color": "#cccccc"
         },
         "mode": "markers",
         "name": "Infeasible Trial",
         "showlegend": false,
         "type": "scatter",
         "x": [],
         "y": []
        }
       ],
       "layout": {
        "height": 500,
        "template": {
         "data": {
          "bar": [
           {
            "error_x": {
             "color": "#2a3f5f"
            },
            "error_y": {
             "color": "#2a3f5f"
            },
            "marker": {
             "line": {
              "color": "#E5ECF6",
              "width": 0.5
             },
             "pattern": {
              "fillmode": "overlay",
              "size": 10,
              "solidity": 0.2
             }
            },
            "type": "bar"
           }
          ],
          "barpolar": [
           {
            "marker": {
             "line": {
              "color": "#E5ECF6",
              "width": 0.5
             },
             "pattern": {
              "fillmode": "overlay",
              "size": 10,
              "solidity": 0.2
             }
            },
            "type": "barpolar"
           }
          ],
          "carpet": [
           {
            "aaxis": {
             "endlinecolor": "#2a3f5f",
             "gridcolor": "white",
             "linecolor": "white",
             "minorgridcolor": "white",
             "startlinecolor": "#2a3f5f"
            },
            "baxis": {
             "endlinecolor": "#2a3f5f",
             "gridcolor": "white",
             "linecolor": "white",
             "minorgridcolor": "white",
             "startlinecolor": "#2a3f5f"
            },
            "type": "carpet"
           }
          ],
          "choropleth": [
           {
            "colorbar": {
             "outlinewidth": 0,
             "ticks": ""
            },
            "type": "choropleth"
           }
          ],
          "contour": [
           {
            "colorbar": {
             "outlinewidth": 0,
             "ticks": ""
            },
            "colorscale": [
             [
              0,
              "#0d0887"
             ],
             [
              0.1111111111111111,
              "#46039f"
             ],
             [
              0.2222222222222222,
              "#7201a8"
             ],
             [
              0.3333333333333333,
              "#9c179e"
             ],
             [
              0.4444444444444444,
              "#bd3786"
             ],
             [
              0.5555555555555556,
              "#d8576b"
             ],
             [
              0.6666666666666666,
              "#ed7953"
             ],
             [
              0.7777777777777778,
              "#fb9f3a"
             ],
             [
              0.8888888888888888,
              "#fdca26"
             ],
             [
              1,
              "#f0f921"
             ]
            ],
            "type": "contour"
           }
          ],
          "contourcarpet": [
           {
            "colorbar": {
             "outlinewidth": 0,
             "ticks": ""
            },
            "type": "contourcarpet"
           }
          ],
          "heatmap": [
           {
            "colorbar": {
             "outlinewidth": 0,
             "ticks": ""
            },
            "colorscale": [
             [
              0,
              "#0d0887"
             ],
             [
              0.1111111111111111,
              "#46039f"
             ],
             [
              0.2222222222222222,
              "#7201a8"
             ],
             [
              0.3333333333333333,
              "#9c179e"
             ],
             [
              0.4444444444444444,
              "#bd3786"
             ],
             [
              0.5555555555555556,
              "#d8576b"
             ],
             [
              0.6666666666666666,
              "#ed7953"
             ],
             [
              0.7777777777777778,
              "#fb9f3a"
             ],
             [
              0.8888888888888888,
              "#fdca26"
             ],
             [
              1,
              "#f0f921"
             ]
            ],
            "type": "heatmap"
           }
          ],
          "histogram": [
           {
            "marker": {
             "pattern": {
              "fillmode": "overlay",
              "size": 10,
              "solidity": 0.2
             }
            },
            "type": "histogram"
           }
          ],
          "histogram2d": [
           {
            "colorbar": {
             "outlinewidth": 0,
             "ticks": ""
            },
            "colorscale": [
             [
              0,
              "#0d0887"
             ],
             [
              0.1111111111111111,
              "#46039f"
             ],
             [
              0.2222222222222222,
              "#7201a8"
             ],
             [
              0.3333333333333333,
              "#9c179e"
             ],
             [
              0.4444444444444444,
              "#bd3786"
             ],
             [
              0.5555555555555556,
              "#d8576b"
             ],
             [
              0.6666666666666666,
              "#ed7953"
             ],
             [
              0.7777777777777778,
              "#fb9f3a"
             ],
             [
              0.8888888888888888,
              "#fdca26"
             ],
             [
              1,
              "#f0f921"
             ]
            ],
            "type": "histogram2d"
           }
          ],
          "histogram2dcontour": [
           {
            "colorbar": {
             "outlinewidth": 0,
             "ticks": ""
            },
            "colorscale": [
             [
              0,
              "#0d0887"
             ],
             [
              0.1111111111111111,
              "#46039f"
             ],
             [
              0.2222222222222222,
              "#7201a8"
             ],
             [
              0.3333333333333333,
              "#9c179e"
             ],
             [
              0.4444444444444444,
              "#bd3786"
             ],
             [
              0.5555555555555556,
              "#d8576b"
             ],
             [
              0.6666666666666666,
              "#ed7953"
             ],
             [
              0.7777777777777778,
              "#fb9f3a"
             ],
             [
              0.8888888888888888,
              "#fdca26"
             ],
             [
              1,
              "#f0f921"
             ]
            ],
            "type": "histogram2dcontour"
           }
          ],
          "mesh3d": [
           {
            "colorbar": {
             "outlinewidth": 0,
             "ticks": ""
            },
            "type": "mesh3d"
           }
          ],
          "parcoords": [
           {
            "line": {
             "colorbar": {
              "outlinewidth": 0,
              "ticks": ""
             }
            },
            "type": "parcoords"
           }
          ],
          "pie": [
           {
            "automargin": true,
            "type": "pie"
           }
          ],
          "scatter": [
           {
            "fillpattern": {
             "fillmode": "overlay",
             "size": 10,
             "solidity": 0.2
            },
            "type": "scatter"
           }
          ],
          "scatter3d": [
           {
            "line": {
             "colorbar": {
              "outlinewidth": 0,
              "ticks": ""
             }
            },
            "marker": {
             "colorbar": {
              "outlinewidth": 0,
              "ticks": ""
             }
            },
            "type": "scatter3d"
           }
          ],
          "scattercarpet": [
           {
            "marker": {
             "colorbar": {
              "outlinewidth": 0,
              "ticks": ""
             }
            },
            "type": "scattercarpet"
           }
          ],
          "scattergeo": [
           {
            "marker": {
             "colorbar": {
              "outlinewidth": 0,
              "ticks": ""
             }
            },
            "type": "scattergeo"
           }
          ],
          "scattergl": [
           {
            "marker": {
             "colorbar": {
              "outlinewidth": 0,
              "ticks": ""
             }
            },
            "type": "scattergl"
           }
          ],
          "scattermap": [
           {
            "marker": {
             "colorbar": {
              "outlinewidth": 0,
              "ticks": ""
             }
            },
            "type": "scattermap"
           }
          ],
          "scattermapbox": [
           {
            "marker": {
             "colorbar": {
              "outlinewidth": 0,
              "ticks": ""
             }
            },
            "type": "scattermapbox"
           }
          ],
          "scatterpolar": [
           {
            "marker": {
             "colorbar": {
              "outlinewidth": 0,
              "ticks": ""
             }
            },
            "type": "scatterpolar"
           }
          ],
          "scatterpolargl": [
           {
            "marker": {
             "colorbar": {
              "outlinewidth": 0,
              "ticks": ""
             }
            },
            "type": "scatterpolargl"
           }
          ],
          "scatterternary": [
           {
            "marker": {
             "colorbar": {
              "outlinewidth": 0,
              "ticks": ""
             }
            },
            "type": "scatterternary"
           }
          ],
          "surface": [
           {
            "colorbar": {
             "outlinewidth": 0,
             "ticks": ""
            },
            "colorscale": [
             [
              0,
              "#0d0887"
             ],
             [
              0.1111111111111111,
              "#46039f"
             ],
             [
              0.2222222222222222,
              "#7201a8"
             ],
             [
              0.3333333333333333,
              "#9c179e"
             ],
             [
              0.4444444444444444,
              "#bd3786"
             ],
             [
              0.5555555555555556,
              "#d8576b"
             ],
             [
              0.6666666666666666,
              "#ed7953"
             ],
             [
              0.7777777777777778,
              "#fb9f3a"
             ],
             [
              0.8888888888888888,
              "#fdca26"
             ],
             [
              1,
              "#f0f921"
             ]
            ],
            "type": "surface"
           }
          ],
          "table": [
           {
            "cells": {
             "fill": {
              "color": "#EBF0F8"
             },
             "line": {
              "color": "white"
             }
            },
            "header": {
             "fill": {
              "color": "#C8D4E3"
             },
             "line": {
              "color": "white"
             }
            },
            "type": "table"
           }
          ]
         },
         "layout": {
          "annotationdefaults": {
           "arrowcolor": "#2a3f5f",
           "arrowhead": 0,
           "arrowwidth": 1
          },
          "autotypenumbers": "strict",
          "coloraxis": {
           "colorbar": {
            "outlinewidth": 0,
            "ticks": ""
           }
          },
          "colorscale": {
           "diverging": [
            [
             0,
             "#8e0152"
            ],
            [
             0.1,
             "#c51b7d"
            ],
            [
             0.2,
             "#de77ae"
            ],
            [
             0.3,
             "#f1b6da"
            ],
            [
             0.4,
             "#fde0ef"
            ],
            [
             0.5,
             "#f7f7f7"
            ],
            [
             0.6,
             "#e6f5d0"
            ],
            [
             0.7,
             "#b8e186"
            ],
            [
             0.8,
             "#7fbc41"
            ],
            [
             0.9,
             "#4d9221"
            ],
            [
             1,
             "#276419"
            ]
           ],
           "sequential": [
            [
             0,
             "#0d0887"
            ],
            [
             0.1111111111111111,
             "#46039f"
            ],
            [
             0.2222222222222222,
             "#7201a8"
            ],
            [
             0.3333333333333333,
             "#9c179e"
            ],
            [
             0.4444444444444444,
             "#bd3786"
            ],
            [
             0.5555555555555556,
             "#d8576b"
            ],
            [
             0.6666666666666666,
             "#ed7953"
            ],
            [
             0.7777777777777778,
             "#fb9f3a"
            ],
            [
             0.8888888888888888,
             "#fdca26"
            ],
            [
             1,
             "#f0f921"
            ]
           ],
           "sequentialminus": [
            [
             0,
             "#0d0887"
            ],
            [
             0.1111111111111111,
             "#46039f"
            ],
            [
             0.2222222222222222,
             "#7201a8"
            ],
            [
             0.3333333333333333,
             "#9c179e"
            ],
            [
             0.4444444444444444,
             "#bd3786"
            ],
            [
             0.5555555555555556,
             "#d8576b"
            ],
            [
             0.6666666666666666,
             "#ed7953"
            ],
            [
             0.7777777777777778,
             "#fb9f3a"
            ],
            [
             0.8888888888888888,
             "#fdca26"
            ],
            [
             1,
             "#f0f921"
            ]
           ]
          },
          "colorway": [
           "#636efa",
           "#EF553B",
           "#00cc96",
           "#ab63fa",
           "#FFA15A",
           "#19d3f3",
           "#FF6692",
           "#B6E880",
           "#FF97FF",
           "#FECB52"
          ],
          "font": {
           "color": "#2a3f5f"
          },
          "geo": {
           "bgcolor": "white",
           "lakecolor": "white",
           "landcolor": "#E5ECF6",
           "showlakes": true,
           "showland": true,
           "subunitcolor": "white"
          },
          "hoverlabel": {
           "align": "left"
          },
          "hovermode": "closest",
          "mapbox": {
           "style": "light"
          },
          "paper_bgcolor": "white",
          "plot_bgcolor": "#E5ECF6",
          "polar": {
           "angularaxis": {
            "gridcolor": "white",
            "linecolor": "white",
            "ticks": ""
           },
           "bgcolor": "#E5ECF6",
           "radialaxis": {
            "gridcolor": "white",
            "linecolor": "white",
            "ticks": ""
           }
          },
          "scene": {
           "xaxis": {
            "backgroundcolor": "#E5ECF6",
            "gridcolor": "white",
            "gridwidth": 2,
            "linecolor": "white",
            "showbackground": true,
            "ticks": "",
            "zerolinecolor": "white"
           },
           "yaxis": {
            "backgroundcolor": "#E5ECF6",
            "gridcolor": "white",
            "gridwidth": 2,
            "linecolor": "white",
            "showbackground": true,
            "ticks": "",
            "zerolinecolor": "white"
           },
           "zaxis": {
            "backgroundcolor": "#E5ECF6",
            "gridcolor": "white",
            "gridwidth": 2,
            "linecolor": "white",
            "showbackground": true,
            "ticks": "",
            "zerolinecolor": "white"
           }
          },
          "shapedefaults": {
           "line": {
            "color": "#2a3f5f"
           }
          },
          "ternary": {
           "aaxis": {
            "gridcolor": "white",
            "linecolor": "white",
            "ticks": ""
           },
           "baxis": {
            "gridcolor": "white",
            "linecolor": "white",
            "ticks": ""
           },
           "bgcolor": "#E5ECF6",
           "caxis": {
            "gridcolor": "white",
            "linecolor": "white",
            "ticks": ""
           }
          },
          "title": {
           "x": 0.05
          },
          "xaxis": {
           "automargin": true,
           "gridcolor": "white",
           "linecolor": "white",
           "ticks": "",
           "title": {
            "standoff": 15
           },
           "zerolinecolor": "white",
           "zerolinewidth": 2
          },
          "yaxis": {
           "automargin": true,
           "gridcolor": "white",
           "linecolor": "white",
           "ticks": "",
           "title": {
            "standoff": 15
           },
           "zerolinecolor": "white",
           "zerolinewidth": 2
          }
         }
        },
        "title": {
         "text": "Optimization History (CMA-ES)"
        },
        "width": 900,
        "xaxis": {
         "title": {
          "text": "Trial"
         }
        },
        "yaxis": {
         "title": {
          "text": "Objective Value"
         }
        }
       }
      }
     },
     "metadata": {},
     "output_type": "display_data"
    },
    {
     "name": "stdout",
     "output_type": "stream",
     "text": [
      "✓ Optimization history plot displayed\n"
     ]
    },
    {
     "data": {
      "application/vnd.plotly.v1+json": {
       "config": {
        "plotlyServerURL": "https://plot.ly"
       },
       "data": [
        {
         "dimensions": [
          {
           "label": "Objective Value",
           "range": [
            0.5748906221983145,
            0.7738880563880564
           ],
           "values": [
            0.6324943005712236,
            0.6338001375913463,
            0.6427189965102053,
            0.6389115341313143,
            0.5748906221983145,
            0.6603378855576658,
            0.6344426696624499,
            0.6722809729952587,
            0.6271912702681932,
            0.6338001375913463,
            0.6345159297357099,
            0.6345159297357099,
            0.6427189965102053,
            0.5989787074951911,
            0.6693039500182357,
            0.6350189188101275,
            0.6427207804405607,
            0.7333923219637506,
            0.6345159297357099,
            0.6350189188101275,
            0.74757548007548,
            0.6754623551052122,
            0.6831886367600654,
            0.6271912702681932,
            0.7508583083583084,
            0.7024642421070992,
            0.7738880563880564,
            0.7412984237984238,
            0.6969648605362891,
            0.7000631907774764
           ]
          },
          {
           "label": "max_depth",
           "range": [
            3,
            20
           ],
           "values": [
            20,
            11,
            11,
            15,
            3,
            14,
            15,
            14,
            16,
            14,
            12,
            18,
            10,
            14,
            16,
            11,
            16,
            15,
            14,
            17,
            15,
            16,
            14,
            13,
            15,
            18,
            16,
            16,
            16,
            9
           ]
          },
          {
           "label": "min_samples_leaf",
           "range": [
            1,
            9
           ],
           "values": [
            6,
            4,
            4,
            6,
            6,
            3,
            4,
            3,
            7,
            4,
            5,
            5,
            4,
            9,
            3,
            4,
            3,
            2,
            5,
            4,
            1,
            2,
            3,
            7,
            1,
            1,
            1,
            1,
            3,
            1
           ]
          },
          {
           "label": "min_samples_split",
           "range": [
            2,
            15
           ],
           "values": [
            15,
            6,
            7,
            11,
            9,
            15,
            10,
            8,
            7,
            9,
            6,
            7,
            7,
            10,
            10,
            8,
            14,
            6,
            11,
            12,
            6,
            11,
            6,
            14,
            3,
            9,
            2,
            6,
            7,
            13
           ]
          },
          {
           "label": "n_estimators",
           "range": [
            103,
            271
           ],
           "values": [
            144,
            143,
            221,
            149,
            164,
            241,
            103,
            129,
            190,
            161,
            171,
            271,
            222,
            175,
            230,
            206,
            126,
            262,
            229,
            215,
            179,
            225,
            216,
            207,
            240,
            267,
            183,
            246,
            232,
            172
           ]
          }
         ],
         "labelangle": 30,
         "labelside": "bottom",
         "line": {
          "color": [
           0.6324943005712236,
           0.6338001375913463,
           0.6427189965102053,
           0.6389115341313143,
           0.5748906221983145,
           0.6603378855576658,
           0.6344426696624499,
           0.6722809729952587,
           0.6271912702681932,
           0.6338001375913463,
           0.6345159297357099,
           0.6345159297357099,
           0.6427189965102053,
           0.5989787074951911,
           0.6693039500182357,
           0.6350189188101275,
           0.6427207804405607,
           0.7333923219637506,
           0.6345159297357099,
           0.6350189188101275,
           0.74757548007548,
           0.6754623551052122,
           0.6831886367600654,
           0.6271912702681932,
           0.7508583083583084,
           0.7024642421070992,
           0.7738880563880564,
           0.7412984237984238,
           0.6969648605362891,
           0.7000631907774764
          ],
          "colorbar": {
           "title": {
            "text": "Objective Value"
           }
          },
          "colorscale": [
           [
            0,
            "rgb(247,251,255)"
           ],
           [
            0.125,
            "rgb(222,235,247)"
           ],
           [
            0.25,
            "rgb(198,219,239)"
           ],
           [
            0.375,
            "rgb(158,202,225)"
           ],
           [
            0.5,
            "rgb(107,174,214)"
           ],
           [
            0.625,
            "rgb(66,146,198)"
           ],
           [
            0.75,
            "rgb(33,113,181)"
           ],
           [
            0.875,
            "rgb(8,81,156)"
           ],
           [
            1,
            "rgb(8,48,107)"
           ]
          ],
          "reversescale": false,
          "showscale": true
         },
         "type": "parcoords"
        }
       ],
       "layout": {
        "height": 600,
        "template": {
         "data": {
          "bar": [
           {
            "error_x": {
             "color": "#2a3f5f"
            },
            "error_y": {
             "color": "#2a3f5f"
            },
            "marker": {
             "line": {
              "color": "#E5ECF6",
              "width": 0.5
             },
             "pattern": {
              "fillmode": "overlay",
              "size": 10,
              "solidity": 0.2
             }
            },
            "type": "bar"
           }
          ],
          "barpolar": [
           {
            "marker": {
             "line": {
              "color": "#E5ECF6",
              "width": 0.5
             },
             "pattern": {
              "fillmode": "overlay",
              "size": 10,
              "solidity": 0.2
             }
            },
            "type": "barpolar"
           }
          ],
          "carpet": [
           {
            "aaxis": {
             "endlinecolor": "#2a3f5f",
             "gridcolor": "white",
             "linecolor": "white",
             "minorgridcolor": "white",
             "startlinecolor": "#2a3f5f"
            },
            "baxis": {
             "endlinecolor": "#2a3f5f",
             "gridcolor": "white",
             "linecolor": "white",
             "minorgridcolor": "white",
             "startlinecolor": "#2a3f5f"
            },
            "type": "carpet"
           }
          ],
          "choropleth": [
           {
            "colorbar": {
             "outlinewidth": 0,
             "ticks": ""
            },
            "type": "choropleth"
           }
          ],
          "contour": [
           {
            "colorbar": {
             "outlinewidth": 0,
             "ticks": ""
            },
            "colorscale": [
             [
              0,
              "#0d0887"
             ],
             [
              0.1111111111111111,
              "#46039f"
             ],
             [
              0.2222222222222222,
              "#7201a8"
             ],
             [
              0.3333333333333333,
              "#9c179e"
             ],
             [
              0.4444444444444444,
              "#bd3786"
             ],
             [
              0.5555555555555556,
              "#d8576b"
             ],
             [
              0.6666666666666666,
              "#ed7953"
             ],
             [
              0.7777777777777778,
              "#fb9f3a"
             ],
             [
              0.8888888888888888,
              "#fdca26"
             ],
             [
              1,
              "#f0f921"
             ]
            ],
            "type": "contour"
           }
          ],
          "contourcarpet": [
           {
            "colorbar": {
             "outlinewidth": 0,
             "ticks": ""
            },
            "type": "contourcarpet"
           }
          ],
          "heatmap": [
           {
            "colorbar": {
             "outlinewidth": 0,
             "ticks": ""
            },
            "colorscale": [
             [
              0,
              "#0d0887"
             ],
             [
              0.1111111111111111,
              "#46039f"
             ],
             [
              0.2222222222222222,
              "#7201a8"
             ],
             [
              0.3333333333333333,
              "#9c179e"
             ],
             [
              0.4444444444444444,
              "#bd3786"
             ],
             [
              0.5555555555555556,
              "#d8576b"
             ],
             [
              0.6666666666666666,
              "#ed7953"
             ],
             [
              0.7777777777777778,
              "#fb9f3a"
             ],
             [
              0.8888888888888888,
              "#fdca26"
             ],
             [
              1,
              "#f0f921"
             ]
            ],
            "type": "heatmap"
           }
          ],
          "histogram": [
           {
            "marker": {
             "pattern": {
              "fillmode": "overlay",
              "size": 10,
              "solidity": 0.2
             }
            },
            "type": "histogram"
           }
          ],
          "histogram2d": [
           {
            "colorbar": {
             "outlinewidth": 0,
             "ticks": ""
            },
            "colorscale": [
             [
              0,
              "#0d0887"
             ],
             [
              0.1111111111111111,
              "#46039f"
             ],
             [
              0.2222222222222222,
              "#7201a8"
             ],
             [
              0.3333333333333333,
              "#9c179e"
             ],
             [
              0.4444444444444444,
              "#bd3786"
             ],
             [
              0.5555555555555556,
              "#d8576b"
             ],
             [
              0.6666666666666666,
              "#ed7953"
             ],
             [
              0.7777777777777778,
              "#fb9f3a"
             ],
             [
              0.8888888888888888,
              "#fdca26"
             ],
             [
              1,
              "#f0f921"
             ]
            ],
            "type": "histogram2d"
           }
          ],
          "histogram2dcontour": [
           {
            "colorbar": {
             "outlinewidth": 0,
             "ticks": ""
            },
            "colorscale": [
             [
              0,
              "#0d0887"
             ],
             [
              0.1111111111111111,
              "#46039f"
             ],
             [
              0.2222222222222222,
              "#7201a8"
             ],
             [
              0.3333333333333333,
              "#9c179e"
             ],
             [
              0.4444444444444444,
              "#bd3786"
             ],
             [
              0.5555555555555556,
              "#d8576b"
             ],
             [
              0.6666666666666666,
              "#ed7953"
             ],
             [
              0.7777777777777778,
              "#fb9f3a"
             ],
             [
              0.8888888888888888,
              "#fdca26"
             ],
             [
              1,
              "#f0f921"
             ]
            ],
            "type": "histogram2dcontour"
           }
          ],
          "mesh3d": [
           {
            "colorbar": {
             "outlinewidth": 0,
             "ticks": ""
            },
            "type": "mesh3d"
           }
          ],
          "parcoords": [
           {
            "line": {
             "colorbar": {
              "outlinewidth": 0,
              "ticks": ""
             }
            },
            "type": "parcoords"
           }
          ],
          "pie": [
           {
            "automargin": true,
            "type": "pie"
           }
          ],
          "scatter": [
           {
            "fillpattern": {
             "fillmode": "overlay",
             "size": 10,
             "solidity": 0.2
            },
            "type": "scatter"
           }
          ],
          "scatter3d": [
           {
            "line": {
             "colorbar": {
              "outlinewidth": 0,
              "ticks": ""
             }
            },
            "marker": {
             "colorbar": {
              "outlinewidth": 0,
              "ticks": ""
             }
            },
            "type": "scatter3d"
           }
          ],
          "scattercarpet": [
           {
            "marker": {
             "colorbar": {
              "outlinewidth": 0,
              "ticks": ""
             }
            },
            "type": "scattercarpet"
           }
          ],
          "scattergeo": [
           {
            "marker": {
             "colorbar": {
              "outlinewidth": 0,
              "ticks": ""
             }
            },
            "type": "scattergeo"
           }
          ],
          "scattergl": [
           {
            "marker": {
             "colorbar": {
              "outlinewidth": 0,
              "ticks": ""
             }
            },
            "type": "scattergl"
           }
          ],
          "scattermap": [
           {
            "marker": {
             "colorbar": {
              "outlinewidth": 0,
              "ticks": ""
             }
            },
            "type": "scattermap"
           }
          ],
          "scattermapbox": [
           {
            "marker": {
             "colorbar": {
              "outlinewidth": 0,
              "ticks": ""
             }
            },
            "type": "scattermapbox"
           }
          ],
          "scatterpolar": [
           {
            "marker": {
             "colorbar": {
              "outlinewidth": 0,
              "ticks": ""
             }
            },
            "type": "scatterpolar"
           }
          ],
          "scatterpolargl": [
           {
            "marker": {
             "colorbar": {
              "outlinewidth": 0,
              "ticks": ""
             }
            },
            "type": "scatterpolargl"
           }
          ],
          "scatterternary": [
           {
            "marker": {
             "colorbar": {
              "outlinewidth": 0,
              "ticks": ""
             }
            },
            "type": "scatterternary"
           }
          ],
          "surface": [
           {
            "colorbar": {
             "outlinewidth": 0,
             "ticks": ""
            },
            "colorscale": [
             [
              0,
              "#0d0887"
             ],
             [
              0.1111111111111111,
              "#46039f"
             ],
             [
              0.2222222222222222,
              "#7201a8"
             ],
             [
              0.3333333333333333,
              "#9c179e"
             ],
             [
              0.4444444444444444,
              "#bd3786"
             ],
             [
              0.5555555555555556,
              "#d8576b"
             ],
             [
              0.6666666666666666,
              "#ed7953"
             ],
             [
              0.7777777777777778,
              "#fb9f3a"
             ],
             [
              0.8888888888888888,
              "#fdca26"
             ],
             [
              1,
              "#f0f921"
             ]
            ],
            "type": "surface"
           }
          ],
          "table": [
           {
            "cells": {
             "fill": {
              "color": "#EBF0F8"
             },
             "line": {
              "color": "white"
             }
            },
            "header": {
             "fill": {
              "color": "#C8D4E3"
             },
             "line": {
              "color": "white"
             }
            },
            "type": "table"
           }
          ]
         },
         "layout": {
          "annotationdefaults": {
           "arrowcolor": "#2a3f5f",
           "arrowhead": 0,
           "arrowwidth": 1
          },
          "autotypenumbers": "strict",
          "coloraxis": {
           "colorbar": {
            "outlinewidth": 0,
            "ticks": ""
           }
          },
          "colorscale": {
           "diverging": [
            [
             0,
             "#8e0152"
            ],
            [
             0.1,
             "#c51b7d"
            ],
            [
             0.2,
             "#de77ae"
            ],
            [
             0.3,
             "#f1b6da"
            ],
            [
             0.4,
             "#fde0ef"
            ],
            [
             0.5,
             "#f7f7f7"
            ],
            [
             0.6,
             "#e6f5d0"
            ],
            [
             0.7,
             "#b8e186"
            ],
            [
             0.8,
             "#7fbc41"
            ],
            [
             0.9,
             "#4d9221"
            ],
            [
             1,
             "#276419"
            ]
           ],
           "sequential": [
            [
             0,
             "#0d0887"
            ],
            [
             0.1111111111111111,
             "#46039f"
            ],
            [
             0.2222222222222222,
             "#7201a8"
            ],
            [
             0.3333333333333333,
             "#9c179e"
            ],
            [
             0.4444444444444444,
             "#bd3786"
            ],
            [
             0.5555555555555556,
             "#d8576b"
            ],
            [
             0.6666666666666666,
             "#ed7953"
            ],
            [
             0.7777777777777778,
             "#fb9f3a"
            ],
            [
             0.8888888888888888,
             "#fdca26"
            ],
            [
             1,
             "#f0f921"
            ]
           ],
           "sequentialminus": [
            [
             0,
             "#0d0887"
            ],
            [
             0.1111111111111111,
             "#46039f"
            ],
            [
             0.2222222222222222,
             "#7201a8"
            ],
            [
             0.3333333333333333,
             "#9c179e"
            ],
            [
             0.4444444444444444,
             "#bd3786"
            ],
            [
             0.5555555555555556,
             "#d8576b"
            ],
            [
             0.6666666666666666,
             "#ed7953"
            ],
            [
             0.7777777777777778,
             "#fb9f3a"
            ],
            [
             0.8888888888888888,
             "#fdca26"
            ],
            [
             1,
             "#f0f921"
            ]
           ]
          },
          "colorway": [
           "#636efa",
           "#EF553B",
           "#00cc96",
           "#ab63fa",
           "#FFA15A",
           "#19d3f3",
           "#FF6692",
           "#B6E880",
           "#FF97FF",
           "#FECB52"
          ],
          "font": {
           "color": "#2a3f5f"
          },
          "geo": {
           "bgcolor": "white",
           "lakecolor": "white",
           "landcolor": "#E5ECF6",
           "showlakes": true,
           "showland": true,
           "subunitcolor": "white"
          },
          "hoverlabel": {
           "align": "left"
          },
          "hovermode": "closest",
          "mapbox": {
           "style": "light"
          },
          "paper_bgcolor": "white",
          "plot_bgcolor": "#E5ECF6",
          "polar": {
           "angularaxis": {
            "gridcolor": "white",
            "linecolor": "white",
            "ticks": ""
           },
           "bgcolor": "#E5ECF6",
           "radialaxis": {
            "gridcolor": "white",
            "linecolor": "white",
            "ticks": ""
           }
          },
          "scene": {
           "xaxis": {
            "backgroundcolor": "#E5ECF6",
            "gridcolor": "white",
            "gridwidth": 2,
            "linecolor": "white",
            "showbackground": true,
            "ticks": "",
            "zerolinecolor": "white"
           },
           "yaxis": {
            "backgroundcolor": "#E5ECF6",
            "gridcolor": "white",
            "gridwidth": 2,
            "linecolor": "white",
            "showbackground": true,
            "ticks": "",
            "zerolinecolor": "white"
           },
           "zaxis": {
            "backgroundcolor": "#E5ECF6",
            "gridcolor": "white",
            "gridwidth": 2,
            "linecolor": "white",
            "showbackground": true,
            "ticks": "",
            "zerolinecolor": "white"
           }
          },
          "shapedefaults": {
           "line": {
            "color": "#2a3f5f"
           }
          },
          "ternary": {
           "aaxis": {
            "gridcolor": "white",
            "linecolor": "white",
            "ticks": ""
           },
           "baxis": {
            "gridcolor": "white",
            "linecolor": "white",
            "ticks": ""
           },
           "bgcolor": "#E5ECF6",
           "caxis": {
            "gridcolor": "white",
            "linecolor": "white",
            "ticks": ""
           }
          },
          "title": {
           "x": 0.05
          },
          "xaxis": {
           "automargin": true,
           "gridcolor": "white",
           "linecolor": "white",
           "ticks": "",
           "title": {
            "standoff": 15
           },
           "zerolinecolor": "white",
           "zerolinewidth": 2
          },
          "yaxis": {
           "automargin": true,
           "gridcolor": "white",
           "linecolor": "white",
           "ticks": "",
           "title": {
            "standoff": 15
           },
           "zerolinecolor": "white",
           "zerolinewidth": 2
          }
         }
        },
        "title": {
         "text": "Parallel Coordinate Plot (CMA-ES)"
        },
        "width": 1000
       }
      }
     },
     "metadata": {},
     "output_type": "display_data"
    },
    {
     "name": "stdout",
     "output_type": "stream",
     "text": [
      "✓ Parallel coordinate plot displayed\n"
     ]
    }
   ],
   "source": [
    "# Use the best performing Optuna study for detailed visualization\n",
    "best_optuna_name = max(optuna_results.items(), key=lambda x: x[1]['best_value'])[0]\n",
    "best_study = optuna_results[best_optuna_name]['study']\n",
    "\n",
    "print(f\"Analyzing best strategy: {best_optuna_name}\")\n",
    "print(\"=\"*80)\n",
    "\n",
    "# 1. Parameter Importances\n",
    "try:\n",
    "    fig = optuna_vis.plot_param_importances(best_study)\n",
    "    fig.update_layout(title=f'Hyperparameter Importance ({best_optuna_name})', \n",
    "                      width=800, height=500)\n",
    "    fig.show()\n",
    "    print(\"Parameter importance plot displayed\")\n",
    "except Exception as e:\n",
    "    print(f\"Note: Parameter importance plot requires multiple trials with variance: {e}\")\n",
    "\n",
    "# 2. Optimization History\n",
    "fig = optuna_vis.plot_optimization_history(best_study)\n",
    "fig.update_layout(title=f'Optimization History ({best_optuna_name})', \n",
    "                  width=900, height=500)\n",
    "fig.show()\n",
    "print(\"Optimization history plot displayed\")\n",
    "\n",
    "# 3. Parallel Coordinate Plot\n",
    "fig = optuna_vis.plot_parallel_coordinate(best_study)\n",
    "fig.update_layout(title=f'Parallel Coordinate Plot ({best_optuna_name})', \n",
    "                  width=1000, height=600)\n",
    "fig.show()\n",
    "print(\"Parallel coordinate plot displayed\")"
   ]
  }
 ],
 "metadata": {
  "kernelspec": {
   "display_name": ".venv",
   "language": "python",
   "name": "python3"
  },
  "language_info": {
   "codemirror_mode": {
    "name": "ipython",
    "version": 3
   },
   "file_extension": ".py",
   "mimetype": "text/x-python",
   "name": "python",
   "nbconvert_exporter": "python",
   "pygments_lexer": "ipython3",
   "version": "3.12.7"
  }
 },
 "nbformat": 4,
 "nbformat_minor": 5
}
